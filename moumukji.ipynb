{
 "cells": [
  {
   "cell_type": "code",
   "execution_count": 113,
   "metadata": {},
   "outputs": [],
   "source": [
    "import pandas as pd\n",
    "import numpy as np\n",
    "import tensorflow as tf\n",
    "import matplotlib.pyplot as plt\n",
    "import random"
   ]
  },
  {
   "cell_type": "code",
   "execution_count": 114,
   "metadata": {},
   "outputs": [],
   "source": [
    "main_dish = pd.read_csv('main_dish.csv')\n",
    "side_dish = pd.read_csv('side_dish.csv')\n",
    "kimchi = pd.read_csv('removed_kimchi.csv')\n",
    "rice = pd.read_csv('removed_rice.csv')\n",
    "soup = pd.read_csv('removed_soup.csv')"
   ]
  },
  {
   "cell_type": "code",
   "execution_count": 115,
   "metadata": {},
   "outputs": [
    {
     "data": {
      "text/html": [
       "<div>\n",
       "<style scoped>\n",
       "    .dataframe tbody tr th:only-of-type {\n",
       "        vertical-align: middle;\n",
       "    }\n",
       "\n",
       "    .dataframe tbody tr th {\n",
       "        vertical-align: top;\n",
       "    }\n",
       "\n",
       "    .dataframe thead th {\n",
       "        text-align: right;\n",
       "    }\n",
       "</style>\n",
       "<table border=\"1\" class=\"dataframe\">\n",
       "  <thead>\n",
       "    <tr style=\"text-align: right;\">\n",
       "      <th></th>\n",
       "      <th>RecipeID</th>\n",
       "      <th>Name</th>\n",
       "      <th>식품대분류</th>\n",
       "      <th>식품상세분류</th>\n",
       "      <th>1회제공량(g)</th>\n",
       "      <th>calories</th>\n",
       "      <th>carbohydrate</th>\n",
       "      <th>protein</th>\n",
       "      <th>fat</th>\n",
       "      <th>sugar</th>\n",
       "      <th>sodium</th>\n",
       "    </tr>\n",
       "  </thead>\n",
       "  <tbody>\n",
       "    <tr>\n",
       "      <th>0</th>\n",
       "      <td>1</td>\n",
       "      <td>오징어순대</td>\n",
       "      <td>찜류</td>\n",
       "      <td>어패류찜</td>\n",
       "      <td>350</td>\n",
       "      <td>466.86</td>\n",
       "      <td>58.3</td>\n",
       "      <td>45.7</td>\n",
       "      <td>5.6</td>\n",
       "      <td>0.4</td>\n",
       "      <td>1258.71</td>\n",
       "    </tr>\n",
       "    <tr>\n",
       "      <th>1</th>\n",
       "      <td>2</td>\n",
       "      <td>대구찜</td>\n",
       "      <td>찜류</td>\n",
       "      <td>어패류찜</td>\n",
       "      <td>500</td>\n",
       "      <td>376.42</td>\n",
       "      <td>24.7</td>\n",
       "      <td>51.7</td>\n",
       "      <td>7.9</td>\n",
       "      <td>5.7</td>\n",
       "      <td>1898.67</td>\n",
       "    </tr>\n",
       "    <tr>\n",
       "      <th>2</th>\n",
       "      <td>3</td>\n",
       "      <td>동태찜</td>\n",
       "      <td>찜류</td>\n",
       "      <td>어패류찜</td>\n",
       "      <td>500</td>\n",
       "      <td>394.32</td>\n",
       "      <td>25.8</td>\n",
       "      <td>50.9</td>\n",
       "      <td>9.7</td>\n",
       "      <td>5.7</td>\n",
       "      <td>1985.60</td>\n",
       "    </tr>\n",
       "    <tr>\n",
       "      <th>3</th>\n",
       "      <td>4</td>\n",
       "      <td>돼지등갈비찜</td>\n",
       "      <td>찜류</td>\n",
       "      <td>육류찜</td>\n",
       "      <td>450</td>\n",
       "      <td>961.04</td>\n",
       "      <td>57.4</td>\n",
       "      <td>72.1</td>\n",
       "      <td>49.2</td>\n",
       "      <td>24.1</td>\n",
       "      <td>2395.17</td>\n",
       "    </tr>\n",
       "    <tr>\n",
       "      <th>4</th>\n",
       "      <td>5</td>\n",
       "      <td>돼지머리고기</td>\n",
       "      <td>찜류</td>\n",
       "      <td>육류찜</td>\n",
       "      <td>200</td>\n",
       "      <td>650.00</td>\n",
       "      <td>3.5</td>\n",
       "      <td>42.4</td>\n",
       "      <td>52.0</td>\n",
       "      <td>0.1</td>\n",
       "      <td>333.64</td>\n",
       "    </tr>\n",
       "  </tbody>\n",
       "</table>\n",
       "</div>"
      ],
      "text/plain": [
       "   RecipeID    Name 식품대분류 식품상세분류  1회제공량(g)  calories  carbohydrate  protein  \\\n",
       "0         1   오징어순대    찜류   어패류찜       350    466.86          58.3     45.7   \n",
       "1         2     대구찜    찜류   어패류찜       500    376.42          24.7     51.7   \n",
       "2         3     동태찜    찜류   어패류찜       500    394.32          25.8     50.9   \n",
       "3         4  돼지등갈비찜    찜류    육류찜       450    961.04          57.4     72.1   \n",
       "4         5  돼지머리고기    찜류    육류찜       200    650.00           3.5     42.4   \n",
       "\n",
       "    fat  sugar   sodium  \n",
       "0   5.6    0.4  1258.71  \n",
       "1   7.9    5.7  1898.67  \n",
       "2   9.7    5.7  1985.60  \n",
       "3  49.2   24.1  2395.17  \n",
       "4  52.0    0.1   333.64  "
      ]
     },
     "execution_count": 115,
     "metadata": {},
     "output_type": "execute_result"
    }
   ],
   "source": [
    "main_dish.head()\n",
    "# side_dish.head()\n",
    "# kimchi.head()\n",
    "# rice.head()\n",
    "# soup.head()"
   ]
  },
  {
   "cell_type": "code",
   "execution_count": 116,
   "metadata": {},
   "outputs": [
    {
     "name": "stdout",
     "output_type": "stream",
     "text": [
      "<class 'pandas.core.frame.DataFrame'>\n",
      "RangeIndex: 202 entries, 0 to 201\n",
      "Data columns (total 11 columns):\n",
      " #   Column        Non-Null Count  Dtype  \n",
      "---  ------        --------------  -----  \n",
      " 0   RecipeID      202 non-null    int64  \n",
      " 1   Name          202 non-null    object \n",
      " 2   식품대분류         202 non-null    object \n",
      " 3   식품상세분류        202 non-null    object \n",
      " 4   1회제공량(g)      202 non-null    int64  \n",
      " 5   calories      202 non-null    float64\n",
      " 6   carbohydrate  202 non-null    float64\n",
      " 7   protein       202 non-null    float64\n",
      " 8   fat           202 non-null    float64\n",
      " 9   sugar         202 non-null    float64\n",
      " 10  sodium        202 non-null    float64\n",
      "dtypes: float64(6), int64(2), object(3)\n",
      "memory usage: 17.5+ KB\n"
     ]
    }
   ],
   "source": [
    "main_dish.info()\n",
    "# side_dish.info()\n",
    "# kimchi.info()\n",
    "# rice.info()\n",
    "# soup.info()"
   ]
  },
  {
   "cell_type": "code",
   "execution_count": 117,
   "metadata": {},
   "outputs": [
    {
     "data": {
      "image/png": "[encoded data removed]",
      "text/plain": [
       "<Figure size 640x480 with 1 Axes>"
      ]
     },
     "metadata": {},
     "output_type": "display_data"
    }
   ],
   "source": [
    "import pylab \n",
    "import scipy.stats as stats\n",
    "stats.probplot(main_dish.calories.to_numpy(), dist=\"norm\", plot=pylab)\n",
    "pylab.show()"
   ]
  },
  {
   "cell_type": "code",
   "execution_count": 118,
   "metadata": {},
   "outputs": [],
   "source": [
    "main_dish_dataset=main_dish.copy()\n",
    "side_dish_dataset=side_dish.copy()\n",
    "kimchi_dataset=kimchi.copy()\n",
    "rice_dataset=rice.copy()\n",
    "soup_dataset=soup.copy()\n",
    "columns=['RecipeID','Name','calories','carbohydrate','protein','fat','sugar','sodium']\n",
    "main_dish_dataset=main_dish_dataset[columns]\n",
    "side_dish_dataset=side_dish_dataset[columns]\n",
    "kimchi_dataset=kimchi_dataset[columns]\n",
    "rice_dataset=rice_dataset[columns]\n",
    "soup_dataset=soup_dataset[columns]"
   ]
  },
  {
   "cell_type": "code",
   "execution_count": 119,
   "metadata": {},
   "outputs": [
    {
     "name": "stdout",
     "output_type": "stream",
     "text": [
      "[[161, 41, 38, 25, 72], [125, 107, 1, 13, 2], [68, 40, 3, 5, 121], [92, 100, 40, 23, 116], [94, 98, 30, 19, 17], [15, 28, 34, 20, 18], [55, 45, 39, 1, 7], [55, 148, 4, 1, 13], [104, 116, 35, 21, 61], [56, 118, 18, 20, 110], [195, 40, 47, 19, 50], [71, 74, 47, 22, 36], [99, 144, 12, 15, 84], [90, 5, 7, 17, 127], [41, 92, 7, 17, 119], [132, 71, 19, 12, 130], [127, 83, 37, 10, 107], [159, 55, 29, 18, 16], [91, 63, 24, 18, 76], [191, 113, 28, 10, 55], [54, 100, 10, 1, 56], [73, 140, 5, 2, 86], [126, 109, 21, 14, 11], [21, 119, 32, 1, 162], [190, 13, 36, 7, 47], [20, 129, 15, 11, 169], [168, 79, 33, 25, 157], [165, 49, 54, 8, 152], [38, 102, 19, 22, 14], [79, 43, 9, 14, 18], [80, 150, 21, 13, 60], [188, 74, 1, 20, 155], [129, 151, 39, 18, 135], [64, 138, 22, 20, 18], [53, 66, 3, 7, 155], [5, 103, 24, 12, 54], [58, 124, 18, 17, 63], [157, 119, 8, 10, 181], [138, 52, 9, 5, 143], [182, 99, 39, 24, 122], [25, 5, 15, 20, 174], [28, 5, 4, 7, 25], [46, 61, 31, 4, 18], [89, 20, 37, 24, 121], [87, 46, 29, 14, 169], [200, 144, 38, 11, 64], [159, 34, 8, 11, 166], [8, 92, 7, 6, 133], [99, 73, 16, 21, 181], [169, 119, 3, 3, 105], [73, 67, 51, 15, 160], [165, 16, 52, 11, 93], [186, 122, 41, 12, 167], [196, 109, 25, 13, 139], [121, 147, 16, 11, 15], [51, 143, 20, 8, 64], [124, 115, 43, 10, 92], [182, 17, 34, 12, 103], [202, 12, 31, 19, 164], [84, 64, 12, 23, 39], [196, 149, 28, 17, 154], [1, 94, 51, 9, 103], [68, 53, 39, 9, 45], [193, 58, 3, 19, 79], [48, 53, 47, 5, 100], [188, 68, 27, 16, 60], [47, 104, 26, 13, 166], [99, 49, 44, 19, 132], [153, 81, 36, 14, 107], [52, 19, 18, 8, 186], [124, 85, 22, 13, 98], [49, 51, 17, 16, 171], [198, 89, 38, 2, 82], [79, 34, 4, 5, 59], [45, 142, 26, 14, 164], [42, 42, 7, 1, 11], [29, 141, 28, 18, 133], [147, 138, 15, 26, 89], [95, 54, 18, 4, 118], [169, 12, 19, 6, 33], [96, 84, 36, 23, 44], [153, 127, 31, 25, 104], [84, 119, 6, 20, 128], [124, 125, 52, 15, 77], [75, 59, 29, 3, 58], [155, 128, 39, 14, 187], [157, 22, 16, 2, 21], [166, 95, 16, 2, 148], [74, 68, 42, 9, 47], [200, 63, 19, 8, 114], [66, 45, 10, 21, 21], [38, 87, 22, 17, 42], [13, 79, 22, 3, 63], [8, 57, 20, 25, 24], [14, 84, 22, 5, 32], [131, 93, 10, 12, 26], [153, 115, 7, 23, 177], [188, 7, 47, 12, 148], [148, 42, 11, 14, 126], [181, 39, 48, 6, 181]]\n",
      "100\n"
     ]
    }
   ],
   "source": [
    "random_meal = []\n",
    "for i in range(0, 100):\n",
    "    list = []\n",
    "    main_random_num = random.randint(1, len(main_dish_dataset.index))\n",
    "    side_random_num = random.randint(1, len(side_dish_dataset.index))\n",
    "    rice_random_num = random.randint(1, len(rice_dataset.index))\n",
    "    kimchi_random_num = random.randint(1, len(kimchi_dataset.index))\n",
    "    soup_random_num = random.randint(1, len(soup_dataset.index))\n",
    "    list = [main_random_num, side_random_num, rice_random_num, kimchi_random_num, soup_random_num]\n",
    "    random_meal.append(list)\n",
    "print(random_meal)\n",
    "print(len(random_meal))\n",
    "\n"
   ]
  },
  {
   "cell_type": "code",
   "execution_count": 120,
   "metadata": {},
   "outputs": [
    {
     "name": "stdout",
     "output_type": "stream",
     "text": [
      "181\n",
      "RecipeID               181\n",
      "Name            돼지고기 고추장찌개\n",
      "calories              70.0\n",
      "carbohydrate           7.0\n",
      "protein                6.0\n",
      "fat                    2.2\n",
      "sugar                  2.0\n",
      "sodium               646.0\n",
      "Name: 180, dtype: object\n",
      "[948.0100000000001, 852.26, 778.0799999999999, 937.89, 1431.6699999999996, 712.91, 976.99, 1769.9599999999998, 1040.3, 1229.68, 863.56, 935.62, 1722.95, 985.7399999999999, 991.3599999999999, 1310.25, 1511.92, 1095.72, 1790.8, 932.15, 1211.8, 1268.14, 911.1200000000001, 1193.06, 1106.0, 1314.75, 656.88, 682.77, 855.67, 1036.6, 928.0800000000002, 210.47, 1056.75, 1023.9300000000001, 1198.06, 1671.98, 1001.21, 1090.8200000000002, 979.5899999999999, 935.0399999999998, 1056.48, 2079.87, 1175.4499999999998, 953.54, 1349.76, 1010.3199999999998, 770.6099999999999, 1697.35, 1115.47, 1025.94, 799.5200000000001, 895.91, 692.72, 1826.5700000000002, 1246.1799999999998, 1064.04, 1361.6900000000003, 818.4300000000001, 1004.36, 1391.15, 1124.9700000000003, 952.7600000000001, 946.2400000000001, 1046.3400000000001, 1145.8200000000002, 552.77, 1244.48, 1056.43, 1585.65, 1004.3199999999999, 860.0699999999999, 995.0699999999999, 695.41, 1039.3, 1285.5900000000001, 920.6599999999999, 948.69, 1061.14, 1268.81, 699.3, 1685.79, 1123.9099999999999, 1328.0200000000002, 1184.0600000000002, 1001.68, 930.0, 1394.97, 1048.07, 1650.1399999999999, 804.31, 1140.49, 797.5899999999999, 2014.98, 1691.63, 904.92, 1316.18, 1242.57, 1409.0500000000002, 1212.56, 819.56]\n",
      "100\n"
     ]
    }
   ],
   "source": [
    "random_meal_cal = [];random_meal_car = []\n",
    "random_meal_pro= [];random_meal_fat = []\n",
    "random_meal_sug = [];random_meal_sod = []\n",
    "data_set_list = [main_dish_dataset, side_dish_dataset, rice_dataset, kimchi_dataset, soup_dataset]\n",
    "for i in range(len(random_meal)):\n",
    "        meal_cal, meal_car, meal_pro, meal_fat, meal_sug, meal_sod = 0, 0, 0, 0, 0, 0\n",
    "        for j in range(5):\n",
    "                recipe_id = random_meal[i][j]\n",
    "                row = data_set_list[j][data_set_list[j]['RecipeID'] == recipe_id]\n",
    "                if not row.empty:\n",
    "                        row = row.iloc[0]\n",
    "                        cal = row['calories'];car = row['carbohydrate']\n",
    "                        pro = row['protein'];fat = row['fat']\n",
    "                        sug = row['sugar'];sod = row['sodium']   \n",
    "\n",
    "                        meal_cal += cal;meal_car += car\n",
    "                        meal_pro += pro;meal_fat += fat\n",
    "                        meal_sug += sug;meal_sod += sod\n",
    "\n",
    "        random_meal_cal.append(meal_cal);random_meal_car.append(meal_car)\n",
    "        random_meal_pro.append(meal_pro);random_meal_fat.append(meal_fat)\n",
    "        random_meal_sug.append(meal_sug);random_meal_sod.append(meal_sod)\n",
    "\n",
    "print(recipe_id)\n",
    "print(row)\n",
    "print(random_meal_cal)\n",
    "print(len(random_meal_cal))\n"
   ]
  },
  {
   "cell_type": "code",
   "execution_count": 121,
   "metadata": {},
   "outputs": [
    {
     "name": "stdout",
     "output_type": "stream",
     "text": [
      "[[161, 41, 38, 25, 72], [125, 107, 1, 13, 2], [68, 40, 3, 5, 121], [92, 100, 40, 23, 116], [94, 98, 30, 19, 17], [15, 28, 34, 20, 18], [55, 45, 39, 1, 7], [55, 148, 4, 1, 13], [104, 116, 35, 21, 61], [56, 118, 18, 20, 110], [195, 40, 47, 19, 50], [71, 74, 47, 22, 36], [99, 144, 12, 15, 84], [90, 5, 7, 17, 127], [41, 92, 7, 17, 119], [132, 71, 19, 12, 130], [127, 83, 37, 10, 107], [159, 55, 29, 18, 16], [91, 63, 24, 18, 76], [191, 113, 28, 10, 55], [54, 100, 10, 1, 56], [73, 140, 5, 2, 86], [126, 109, 21, 14, 11], [21, 119, 32, 1, 162], [190, 13, 36, 7, 47], [20, 129, 15, 11, 169], [168, 79, 33, 25, 157], [165, 49, 54, 8, 152], [38, 102, 19, 22, 14], [79, 43, 9, 14, 18], [80, 150, 21, 13, 60], [188, 74, 1, 20, 155], [129, 151, 39, 18, 135], [64, 138, 22, 20, 18], [53, 66, 3, 7, 155], [5, 103, 24, 12, 54], [58, 124, 18, 17, 63], [157, 119, 8, 10, 181], [138, 52, 9, 5, 143], [182, 99, 39, 24, 122], [25, 5, 15, 20, 174], [28, 5, 4, 7, 25], [46, 61, 31, 4, 18], [89, 20, 37, 24, 121], [87, 46, 29, 14, 169], [200, 144, 38, 11, 64], [159, 34, 8, 11, 166], [8, 92, 7, 6, 133], [99, 73, 16, 21, 181], [169, 119, 3, 3, 105], [73, 67, 51, 15, 160], [165, 16, 52, 11, 93], [186, 122, 41, 12, 167], [196, 109, 25, 13, 139], [121, 147, 16, 11, 15], [51, 143, 20, 8, 64], [124, 115, 43, 10, 92], [182, 17, 34, 12, 103], [202, 12, 31, 19, 164], [84, 64, 12, 23, 39], [196, 149, 28, 17, 154], [1, 94, 51, 9, 103], [68, 53, 39, 9, 45], [193, 58, 3, 19, 79], [48, 53, 47, 5, 100], [188, 68, 27, 16, 60], [47, 104, 26, 13, 166], [99, 49, 44, 19, 132], [153, 81, 36, 14, 107], [52, 19, 18, 8, 186], [124, 85, 22, 13, 98], [49, 51, 17, 16, 171], [198, 89, 38, 2, 82], [79, 34, 4, 5, 59], [45, 142, 26, 14, 164], [42, 42, 7, 1, 11], [29, 141, 28, 18, 133], [147, 138, 15, 26, 89], [95, 54, 18, 4, 118], [169, 12, 19, 6, 33], [96, 84, 36, 23, 44], [153, 127, 31, 25, 104], [84, 119, 6, 20, 128], [124, 125, 52, 15, 77], [75, 59, 29, 3, 58], [155, 128, 39, 14, 187], [157, 22, 16, 2, 21], [166, 95, 16, 2, 148], [74, 68, 42, 9, 47], [200, 63, 19, 8, 114], [66, 45, 10, 21, 21], [38, 87, 22, 17, 42], [13, 79, 22, 3, 63], [8, 57, 20, 25, 24], [14, 84, 22, 5, 32], [131, 93, 10, 12, 26], [153, 115, 7, 23, 177], [188, 7, 47, 12, 148], [148, 42, 11, 14, 126], [181, 39, 48, 6, 181]]\n"
     ]
    }
   ],
   "source": [
    "print(random_meal)"
   ]
  },
  {
   "cell_type": "code",
   "execution_count": 122,
   "metadata": {},
   "outputs": [],
   "source": [
    "max_daily_Calories=2700\n",
    "max_daily_Carbohydrate=325\n",
    "max_daily_Protein=200\n",
    "max_daily_fat=100\n",
    "max_daily_Sugar=40\n",
    "max_daily_Sodium=3000\n",
    "max_list=[max_daily_Calories, max_daily_Carbohydrate, max_daily_Protein, max_daily_fat, max_daily_Sugar, max_daily_Sodium]\n",
    "\n",
    "max_one_meal_Calories=1500\n",
    "max_one_meal_Carbohydrate=200\n",
    "max_one_meal_Protein=150\n",
    "max_one_meal_fat=60\n",
    "max_one_meal_Sugar=30\n",
    "max_one_meal_Sodium=2000\n",
    "max_one_meal_list=[max_one_meal_Calories, max_one_meal_Carbohydrate, max_one_meal_Protein, max_one_meal_fat, max_one_meal_Sugar, max_one_meal_Sodium]"
   ]
  },
  {
   "cell_type": "code",
   "execution_count": 123,
   "metadata": {},
   "outputs": [
    {
     "name": "stdout",
     "output_type": "stream",
     "text": [
      "[0, 0, 0, 0, 0, 0, 0, 0, 0, 0, 0, 0, 0, 0, 0, 0, 0, 0, 0, 0, 0, 0, 0, 0, 0, 0, [168, 79, 33, 25, 157], 0, [38, 102, 19, 22, 14], 0, 0, [188, 74, 1, 20, 155], 0, 0, 0, 0, 0, 0, 0, 0, 0, 0, 0, 0, 0, 0, 0, 0, 0, 0, 0, 0, 0, 0, 0, 0, 0, 0, 0, 0, 0, 0, 0, 0, 0, 0, 0, 0, 0, 0, 0, 0, 0, 0, 0, 0, 0, 0, 0, [169, 12, 19, 6, 33], 0, 0, 0, 0, [75, 59, 29, 3, 58], 0, 0, 0, 0, 0, 0, 0, 0, 0, 0, 0, 0, 0, 0, 0]\n",
      "[[168, 79, 33, 25, 157], [38, 102, 19, 22, 14], [188, 74, 1, 20, 155], [169, 12, 19, 6, 33], [75, 59, 29, 3, 58]]\n",
      "5\n"
     ]
    }
   ],
   "source": [
    "filtered_random_meal = random_meal.copy()\n",
    "random_meal_nut = [random_meal_cal, random_meal_car, random_meal_pro, random_meal_fat, random_meal_sug, random_meal_sod]\n",
    "for i in range(len(random_meal)):\n",
    "    for j in range(6): \n",
    "        if random_meal_nut[j][i] > max_one_meal_list[j]:\n",
    "            filtered_random_meal[i] = 0\n",
    "print(filtered_random_meal)\n",
    "filtered_random_meal = [i for i in filtered_random_meal if i != 0]\n",
    "print(filtered_random_meal)\n",
    "print(len(filtered_random_meal))"
   ]
  },
  {
   "cell_type": "code",
   "execution_count": 124,
   "metadata": {},
   "outputs": [
    {
     "name": "stdout",
     "output_type": "stream",
     "text": [
      "[948.0100000000001, 852.26, 778.0799999999999, 937.89, 1431.6699999999996]\n",
      "5\n",
      "5\n"
     ]
    }
   ],
   "source": [
    "filtered_meal_cal = [];filtered_meal_car = []\n",
    "filtered_meal_pro= [];filtered_meal_fat = []\n",
    "filtered_meal_sug = [];filtered_meal_sod = []\n",
    "for i in range(len(filtered_random_meal)):\n",
    "        meal_cal, meal_car, meal_pro, meal_fat, meal_sug, meal_sod = 0, 0, 0, 0, 0, 0\n",
    "        for j in range(5):\n",
    "                recipe_id = random_meal[i][j]\n",
    "                row = data_set_list[j][data_set_list[j]['RecipeID'] == recipe_id]\n",
    "                if not row.empty:\n",
    "                        row = row.iloc[0]\n",
    "                        cal = row['calories'];car = row['carbohydrate']\n",
    "                        pro = row['protein'];fat = row['fat']\n",
    "                        sug = row['sugar'];sod = row['sodium']   \n",
    "\n",
    "                        meal_cal += cal;meal_car += car\n",
    "                        meal_pro += pro;meal_fat += fat\n",
    "                        meal_sug += sug;meal_sod += sod\n",
    "\n",
    "        filtered_meal_cal.append(meal_cal);filtered_meal_car.append(meal_car)\n",
    "        filtered_meal_pro.append(meal_pro);filtered_meal_fat.append(meal_fat)\n",
    "        filtered_meal_sug.append(meal_sug);filtered_meal_sod.append(meal_sod)\n",
    "filtered_meal_list = [filtered_meal_cal, filtered_meal_car, filtered_meal_pro, filtered_meal_fat, filtered_meal_sug, filtered_meal_sod]\n",
    "print(filtered_meal_cal)\n",
    "print(len(filtered_meal_cal))\n",
    "print(len(filtered_meal_sod))"
   ]
  },
  {
   "cell_type": "code",
   "execution_count": 146,
   "metadata": {},
   "outputs": [
    {
     "name": "stdout",
     "output_type": "stream",
     "text": [
      "                   MealID  calories  carbohydrate  protein    fat  sugar  \\\n",
      "0  [168, 79, 33, 25, 157]    948.01        124.91    71.56  18.06  20.21   \n",
      "1   [38, 102, 19, 22, 14]    852.26         61.58    81.10  31.25   7.87   \n",
      "2   [188, 74, 1, 20, 155]    778.08        104.78    27.84  27.49  23.16   \n",
      "3    [169, 12, 19, 6, 33]    937.89        104.09    69.54  27.04  23.57   \n",
      "4     [75, 59, 29, 3, 58]   1431.67        149.75    88.02  53.44  25.48   \n",
      "\n",
      "       sod  \n",
      "0  3419.61  \n",
      "1  4975.87  \n",
      "2  2709.42  \n",
      "3  3700.78  \n",
      "4  5015.86  \n"
     ]
    }
   ],
   "source": [
    "final_meal = pd.DataFrame()\n",
    "final_meal[\"MealID\"] = filtered_random_meal\n",
    "final_meal[\"calories\"] = filtered_meal_cal\n",
    "final_meal[\"carbohydrate\"] = filtered_meal_car\n",
    "final_meal[\"protein\"] = filtered_meal_pro\n",
    "final_meal[\"fat\"] = filtered_meal_fat\n",
    "final_meal[\"sugar\"] = filtered_meal_sug\n",
    "final_meal[\"sod\"] = filtered_meal_sod\n",
    "\n",
    "print(final_meal)\n",
    "final_meal.to_csv(\"final_meal.csv\")\n",
    "final_meal_csv = pd.read_csv(\"final_meal.csv\")"
   ]
  },
  {
   "cell_type": "code",
   "execution_count": 126,
   "metadata": {},
   "outputs": [
    {
     "data": {
      "text/html": [
       "<div>\n",
       "<style scoped>\n",
       "    .dataframe tbody tr th:only-of-type {\n",
       "        vertical-align: middle;\n",
       "    }\n",
       "\n",
       "    .dataframe tbody tr th {\n",
       "        vertical-align: top;\n",
       "    }\n",
       "\n",
       "    .dataframe thead th {\n",
       "        text-align: right;\n",
       "    }\n",
       "</style>\n",
       "<table border=\"1\" class=\"dataframe\">\n",
       "  <thead>\n",
       "    <tr style=\"text-align: right;\">\n",
       "      <th></th>\n",
       "      <th>calories</th>\n",
       "      <th>carbohydrate</th>\n",
       "      <th>protein</th>\n",
       "      <th>fat</th>\n",
       "      <th>sugar</th>\n",
       "      <th>sod</th>\n",
       "    </tr>\n",
       "  </thead>\n",
       "  <tbody>\n",
       "    <tr>\n",
       "      <th>calories</th>\n",
       "      <td>1.000000</td>\n",
       "      <td>0.751564</td>\n",
       "      <td>0.636360</td>\n",
       "      <td>0.838561</td>\n",
       "      <td>0.444627</td>\n",
       "      <td>0.606161</td>\n",
       "    </tr>\n",
       "    <tr>\n",
       "      <th>carbohydrate</th>\n",
       "      <td>0.751564</td>\n",
       "      <td>1.000000</td>\n",
       "      <td>0.135881</td>\n",
       "      <td>0.426660</td>\n",
       "      <td>0.840945</td>\n",
       "      <td>-0.054997</td>\n",
       "    </tr>\n",
       "    <tr>\n",
       "      <th>protein</th>\n",
       "      <td>0.636360</td>\n",
       "      <td>0.135881</td>\n",
       "      <td>1.000000</td>\n",
       "      <td>0.437587</td>\n",
       "      <td>-0.255970</td>\n",
       "      <td>0.870427</td>\n",
       "    </tr>\n",
       "    <tr>\n",
       "      <th>fat</th>\n",
       "      <td>0.838561</td>\n",
       "      <td>0.426660</td>\n",
       "      <td>0.437587</td>\n",
       "      <td>1.000000</td>\n",
       "      <td>0.245901</td>\n",
       "      <td>0.681921</td>\n",
       "    </tr>\n",
       "    <tr>\n",
       "      <th>sugar</th>\n",
       "      <td>0.444627</td>\n",
       "      <td>0.840945</td>\n",
       "      <td>-0.255970</td>\n",
       "      <td>0.245901</td>\n",
       "      <td>1.000000</td>\n",
       "      <td>-0.404150</td>\n",
       "    </tr>\n",
       "    <tr>\n",
       "      <th>sod</th>\n",
       "      <td>0.606161</td>\n",
       "      <td>-0.054997</td>\n",
       "      <td>0.870427</td>\n",
       "      <td>0.681921</td>\n",
       "      <td>-0.404150</td>\n",
       "      <td>1.000000</td>\n",
       "    </tr>\n",
       "  </tbody>\n",
       "</table>\n",
       "</div>"
      ],
      "text/plain": [
       "              calories  carbohydrate   protein       fat     sugar       sod\n",
       "calories      1.000000      0.751564  0.636360  0.838561  0.444627  0.606161\n",
       "carbohydrate  0.751564      1.000000  0.135881  0.426660  0.840945 -0.054997\n",
       "protein       0.636360      0.135881  1.000000  0.437587 -0.255970  0.870427\n",
       "fat           0.838561      0.426660  0.437587  1.000000  0.245901  0.681921\n",
       "sugar         0.444627      0.840945 -0.255970  0.245901  1.000000 -0.404150\n",
       "sod           0.606161     -0.054997  0.870427  0.681921 -0.404150  1.000000"
      ]
     },
     "execution_count": 126,
     "metadata": {},
     "output_type": "execute_result"
    }
   ],
   "source": [
    "final_meal.iloc[:,1:7].corr()"
   ]
  },
  {
   "cell_type": "code",
   "execution_count": 127,
   "metadata": {},
   "outputs": [],
   "source": [
    "from sklearn.preprocessing import StandardScaler\n",
    "from sklearn.neighbors import NearestNeighbors\n",
    "from sklearn.pipeline import Pipeline\n",
    "from sklearn.preprocessing import FunctionTransformer\n",
    "\n",
    "scaler = StandardScaler()\n",
    "final_data = scaler.fit_transform(final_meal.iloc[:,1:7].to_numpy())"
   ]
  },
  {
   "cell_type": "code",
   "execution_count": 128,
   "metadata": {},
   "outputs": [
    {
     "data": {
      "text/plain": [
       "array([[-0.18111367,  0.54791021,  0.18823369, -1.13377186,  0.02403781,\n",
       "        -0.60373811],\n",
       "       [-0.59826064, -1.63607479,  0.64308409, -0.01743483, -1.92745305,\n",
       "         1.12120574],\n",
       "       [-0.92143517, -0.14628872, -1.89625893, -0.33566282,  0.49056116,\n",
       "        -1.39090598],\n",
       "       [-0.22520273, -0.17008391,  0.09192365, -0.37374862,  0.55539999,\n",
       "        -0.29209194],\n",
       "       [ 1.9260122 ,  1.4045372 ,  0.9730175 ,  1.86061813,  0.85745409,\n",
       "         1.16553028]])"
      ]
     },
     "execution_count": 128,
     "metadata": {},
     "output_type": "execute_result"
    }
   ],
   "source": [
    "final_data"
   ]
  },
  {
   "cell_type": "code",
   "execution_count": 129,
   "metadata": {},
   "outputs": [
    {
     "data": {
      "text/html": [
       "<style>#sk-container-id-8 {color: black;}#sk-container-id-8 pre{padding: 0;}#sk-container-id-8 div.sk-toggleable {background-color: white;}#sk-container-id-8 label.sk-toggleable__label {cursor: pointer;display: block;width: 100%;margin-bottom: 0;padding: 0.3em;box-sizing: border-box;text-align: center;}#sk-container-id-8 label.sk-toggleable__label-arrow:before {content: \"▸\";float: left;margin-right: 0.25em;color: #696969;}#sk-container-id-8 label.sk-toggleable__label-arrow:hover:before {color: black;}#sk-container-id-8 div.sk-estimator:hover label.sk-toggleable__label-arrow:before {color: black;}#sk-container-id-8 div.sk-toggleable__content {max-height: 0;max-width: 0;overflow: hidden;text-align: left;background-color: #f0f8ff;}#sk-container-id-8 div.sk-toggleable__content pre {margin: 0.2em;color: black;border-radius: 0.25em;background-color: #f0f8ff;}#sk-container-id-8 input.sk-toggleable__control:checked~div.sk-toggleable__content {max-height: 200px;max-width: 100%;overflow: auto;}#sk-container-id-8 input.sk-toggleable__control:checked~label.sk-toggleable__label-arrow:before {content: \"▾\";}#sk-container-id-8 div.sk-estimator input.sk-toggleable__control:checked~label.sk-toggleable__label {background-color: #d4ebff;}#sk-container-id-8 div.sk-label input.sk-toggleable__control:checked~label.sk-toggleable__label {background-color: #d4ebff;}#sk-container-id-8 input.sk-hidden--visually {border: 0;clip: rect(1px 1px 1px 1px);clip: rect(1px, 1px, 1px, 1px);height: 1px;margin: -1px;overflow: hidden;padding: 0;position: absolute;width: 1px;}#sk-container-id-8 div.sk-estimator {font-family: monospace;background-color: #f0f8ff;border: 1px dotted black;border-radius: 0.25em;box-sizing: border-box;margin-bottom: 0.5em;}#sk-container-id-8 div.sk-estimator:hover {background-color: #d4ebff;}#sk-container-id-8 div.sk-parallel-item::after {content: \"\";width: 100%;border-bottom: 1px solid gray;flex-grow: 1;}#sk-container-id-8 div.sk-label:hover label.sk-toggleable__label {background-color: #d4ebff;}#sk-container-id-8 div.sk-serial::before {content: \"\";position: absolute;border-left: 1px solid gray;box-sizing: border-box;top: 0;bottom: 0;left: 50%;z-index: 0;}#sk-container-id-8 div.sk-serial {display: flex;flex-direction: column;align-items: center;background-color: white;padding-right: 0.2em;padding-left: 0.2em;position: relative;}#sk-container-id-8 div.sk-item {position: relative;z-index: 1;}#sk-container-id-8 div.sk-parallel {display: flex;align-items: stretch;justify-content: center;background-color: white;position: relative;}#sk-container-id-8 div.sk-item::before, #sk-container-id-8 div.sk-parallel-item::before {content: \"\";position: absolute;border-left: 1px solid gray;box-sizing: border-box;top: 0;bottom: 0;left: 50%;z-index: -1;}#sk-container-id-8 div.sk-parallel-item {display: flex;flex-direction: column;z-index: 1;position: relative;background-color: white;}#sk-container-id-8 div.sk-parallel-item:first-child::after {align-self: flex-end;width: 50%;}#sk-container-id-8 div.sk-parallel-item:last-child::after {align-self: flex-start;width: 50%;}#sk-container-id-8 div.sk-parallel-item:only-child::after {width: 0;}#sk-container-id-8 div.sk-dashed-wrapped {border: 1px dashed gray;margin: 0 0.4em 0.5em 0.4em;box-sizing: border-box;padding-bottom: 0.4em;background-color: white;}#sk-container-id-8 div.sk-label label {font-family: monospace;font-weight: bold;display: inline-block;line-height: 1.2em;}#sk-container-id-8 div.sk-label-container {text-align: center;}#sk-container-id-8 div.sk-container {/* jupyter's `normalize.less` sets `[hidden] { display: none; }` but bootstrap.min.css set `[hidden] { display: none !important; }` so we also need the `!important` here to be able to override the default hidden behavior on the sphinx rendered scikit-learn.org. See: https://github.com/scikit-learn/scikit-learn/issues/21755 */display: inline-block !important;position: relative;}#sk-container-id-8 div.sk-text-repr-fallback {display: none;}</style><div id=\"sk-container-id-8\" class=\"sk-top-container\"><div class=\"sk-text-repr-fallback\"><pre>NearestNeighbors(algorithm=&#x27;brute&#x27;, metric=&#x27;cosine&#x27;)</pre><b>In a Jupyter environment, please rerun this cell to show the HTML representation or trust the notebook. <br />On GitHub, the HTML representation is unable to render, please try loading this page with nbviewer.org.</b></div><div class=\"sk-container\" hidden><div class=\"sk-item\"><div class=\"sk-estimator sk-toggleable\"><input class=\"sk-toggleable__control sk-hidden--visually\" id=\"sk-estimator-id-14\" type=\"checkbox\" checked><label for=\"sk-estimator-id-14\" class=\"sk-toggleable__label sk-toggleable__label-arrow\">NearestNeighbors</label><div class=\"sk-toggleable__content\"><pre>NearestNeighbors(algorithm=&#x27;brute&#x27;, metric=&#x27;cosine&#x27;)</pre></div></div></div></div></div>"
      ],
      "text/plain": [
       "NearestNeighbors(algorithm='brute', metric='cosine')"
      ]
     },
     "execution_count": 129,
     "metadata": {},
     "output_type": "execute_result"
    }
   ],
   "source": [
    "neigh = NearestNeighbors(metric=\"cosine\", algorithm=\"brute\")\n",
    "neigh.fit(final_data)"
   ]
  },
  {
   "cell_type": "code",
   "execution_count": 130,
   "metadata": {},
   "outputs": [
    {
     "data": {
      "text/html": [
       "<style>#sk-container-id-9 {color: black;}#sk-container-id-9 pre{padding: 0;}#sk-container-id-9 div.sk-toggleable {background-color: white;}#sk-container-id-9 label.sk-toggleable__label {cursor: pointer;display: block;width: 100%;margin-bottom: 0;padding: 0.3em;box-sizing: border-box;text-align: center;}#sk-container-id-9 label.sk-toggleable__label-arrow:before {content: \"▸\";float: left;margin-right: 0.25em;color: #696969;}#sk-container-id-9 label.sk-toggleable__label-arrow:hover:before {color: black;}#sk-container-id-9 div.sk-estimator:hover label.sk-toggleable__label-arrow:before {color: black;}#sk-container-id-9 div.sk-toggleable__content {max-height: 0;max-width: 0;overflow: hidden;text-align: left;background-color: #f0f8ff;}#sk-container-id-9 div.sk-toggleable__content pre {margin: 0.2em;color: black;border-radius: 0.25em;background-color: #f0f8ff;}#sk-container-id-9 input.sk-toggleable__control:checked~div.sk-toggleable__content {max-height: 200px;max-width: 100%;overflow: auto;}#sk-container-id-9 input.sk-toggleable__control:checked~label.sk-toggleable__label-arrow:before {content: \"▾\";}#sk-container-id-9 div.sk-estimator input.sk-toggleable__control:checked~label.sk-toggleable__label {background-color: #d4ebff;}#sk-container-id-9 div.sk-label input.sk-toggleable__control:checked~label.sk-toggleable__label {background-color: #d4ebff;}#sk-container-id-9 input.sk-hidden--visually {border: 0;clip: rect(1px 1px 1px 1px);clip: rect(1px, 1px, 1px, 1px);height: 1px;margin: -1px;overflow: hidden;padding: 0;position: absolute;width: 1px;}#sk-container-id-9 div.sk-estimator {font-family: monospace;background-color: #f0f8ff;border: 1px dotted black;border-radius: 0.25em;box-sizing: border-box;margin-bottom: 0.5em;}#sk-container-id-9 div.sk-estimator:hover {background-color: #d4ebff;}#sk-container-id-9 div.sk-parallel-item::after {content: \"\";width: 100%;border-bottom: 1px solid gray;flex-grow: 1;}#sk-container-id-9 div.sk-label:hover label.sk-toggleable__label {background-color: #d4ebff;}#sk-container-id-9 div.sk-serial::before {content: \"\";position: absolute;border-left: 1px solid gray;box-sizing: border-box;top: 0;bottom: 0;left: 50%;z-index: 0;}#sk-container-id-9 div.sk-serial {display: flex;flex-direction: column;align-items: center;background-color: white;padding-right: 0.2em;padding-left: 0.2em;position: relative;}#sk-container-id-9 div.sk-item {position: relative;z-index: 1;}#sk-container-id-9 div.sk-parallel {display: flex;align-items: stretch;justify-content: center;background-color: white;position: relative;}#sk-container-id-9 div.sk-item::before, #sk-container-id-9 div.sk-parallel-item::before {content: \"\";position: absolute;border-left: 1px solid gray;box-sizing: border-box;top: 0;bottom: 0;left: 50%;z-index: -1;}#sk-container-id-9 div.sk-parallel-item {display: flex;flex-direction: column;z-index: 1;position: relative;background-color: white;}#sk-container-id-9 div.sk-parallel-item:first-child::after {align-self: flex-end;width: 50%;}#sk-container-id-9 div.sk-parallel-item:last-child::after {align-self: flex-start;width: 50%;}#sk-container-id-9 div.sk-parallel-item:only-child::after {width: 0;}#sk-container-id-9 div.sk-dashed-wrapped {border: 1px dashed gray;margin: 0 0.4em 0.5em 0.4em;box-sizing: border-box;padding-bottom: 0.4em;background-color: white;}#sk-container-id-9 div.sk-label label {font-family: monospace;font-weight: bold;display: inline-block;line-height: 1.2em;}#sk-container-id-9 div.sk-label-container {text-align: center;}#sk-container-id-9 div.sk-container {/* jupyter's `normalize.less` sets `[hidden] { display: none; }` but bootstrap.min.css set `[hidden] { display: none !important; }` so we also need the `!important` here to be able to override the default hidden behavior on the sphinx rendered scikit-learn.org. See: https://github.com/scikit-learn/scikit-learn/issues/21755 */display: inline-block !important;position: relative;}#sk-container-id-9 div.sk-text-repr-fallback {display: none;}</style><div id=\"sk-container-id-9\" class=\"sk-top-container\"><div class=\"sk-text-repr-fallback\"><pre>Pipeline(steps=[(&#x27;std_scaler&#x27;, StandardScaler()),\n",
       "                (&#x27;NN&#x27;,\n",
       "                 FunctionTransformer(func=&lt;bound method KNeighborsMixin.kneighbors of NearestNeighbors(algorithm=&#x27;brute&#x27;, metric=&#x27;cosine&#x27;)&gt;,\n",
       "                                     kw_args={&#x27;n_neighbors&#x27;: 3,\n",
       "                                              &#x27;return_distance&#x27;: False}))])</pre><b>In a Jupyter environment, please rerun this cell to show the HTML representation or trust the notebook. <br />On GitHub, the HTML representation is unable to render, please try loading this page with nbviewer.org.</b></div><div class=\"sk-container\" hidden><div class=\"sk-item sk-dashed-wrapped\"><div class=\"sk-label-container\"><div class=\"sk-label sk-toggleable\"><input class=\"sk-toggleable__control sk-hidden--visually\" id=\"sk-estimator-id-15\" type=\"checkbox\" ><label for=\"sk-estimator-id-15\" class=\"sk-toggleable__label sk-toggleable__label-arrow\">Pipeline</label><div class=\"sk-toggleable__content\"><pre>Pipeline(steps=[(&#x27;std_scaler&#x27;, StandardScaler()),\n",
       "                (&#x27;NN&#x27;,\n",
       "                 FunctionTransformer(func=&lt;bound method KNeighborsMixin.kneighbors of NearestNeighbors(algorithm=&#x27;brute&#x27;, metric=&#x27;cosine&#x27;)&gt;,\n",
       "                                     kw_args={&#x27;n_neighbors&#x27;: 3,\n",
       "                                              &#x27;return_distance&#x27;: False}))])</pre></div></div></div><div class=\"sk-serial\"><div class=\"sk-item\"><div class=\"sk-estimator sk-toggleable\"><input class=\"sk-toggleable__control sk-hidden--visually\" id=\"sk-estimator-id-16\" type=\"checkbox\" ><label for=\"sk-estimator-id-16\" class=\"sk-toggleable__label sk-toggleable__label-arrow\">StandardScaler</label><div class=\"sk-toggleable__content\"><pre>StandardScaler()</pre></div></div></div><div class=\"sk-item\"><div class=\"sk-estimator sk-toggleable\"><input class=\"sk-toggleable__control sk-hidden--visually\" id=\"sk-estimator-id-17\" type=\"checkbox\" ><label for=\"sk-estimator-id-17\" class=\"sk-toggleable__label sk-toggleable__label-arrow\">FunctionTransformer</label><div class=\"sk-toggleable__content\"><pre>FunctionTransformer(func=&lt;bound method KNeighborsMixin.kneighbors of NearestNeighbors(algorithm=&#x27;brute&#x27;, metric=&#x27;cosine&#x27;)&gt;,\n",
       "                    kw_args={&#x27;n_neighbors&#x27;: 3, &#x27;return_distance&#x27;: False})</pre></div></div></div></div></div></div></div>"
      ],
      "text/plain": [
       "Pipeline(steps=[('std_scaler', StandardScaler()),\n",
       "                ('NN',\n",
       "                 FunctionTransformer(func=<bound method KNeighborsMixin.kneighbors of NearestNeighbors(algorithm='brute', metric='cosine')>,\n",
       "                                     kw_args={'n_neighbors': 3,\n",
       "                                              'return_distance': False}))])"
      ]
     },
     "execution_count": 130,
     "metadata": {},
     "output_type": "execute_result"
    }
   ],
   "source": [
    "transformer = FunctionTransformer(neigh.kneighbors, kw_args={'return_distance':False})\n",
    "pipeline = Pipeline([('std_scaler', scaler),('NN', transformer)])\n",
    "params = {'n_neighbors':3, 'return_distance':False}\n",
    "pipeline.get_params()\n",
    "pipeline.set_params(NN__kw_args=params)"
   ]
  },
  {
   "cell_type": "code",
   "execution_count": 155,
   "metadata": {},
   "outputs": [
    {
     "data": {
      "text/plain": [
       "'[38, 102, 19, 22, 14]'"
      ]
     },
     "execution_count": 155,
     "metadata": {},
     "output_type": "execute_result"
    }
   ],
   "source": [
    "final_meal_csv.iloc[1][1]"
   ]
  },
  {
   "cell_type": "code",
   "execution_count": 153,
   "metadata": {},
   "outputs": [
    {
     "ename": "ValueError",
     "evalue": "could not convert string to float: '[168, 79, 33, 25, 157]'",
     "output_type": "error",
     "traceback": [
      "\u001b[1;31m---------------------------------------------------------------------------\u001b[0m",
      "\u001b[1;31mValueError\u001b[0m                                Traceback (most recent call last)",
      "\u001b[1;32mc:\\git_files\\moumukji\\moumukji.ipynb Cell 19\u001b[0m line \u001b[0;36m1\n\u001b[1;32m----> <a href='vscode-notebook-cell:/c%3A/git_files/moumukji/moumukji.ipynb#X30sZmlsZQ%3D%3D?line=0'>1</a>\u001b[0m pipeline\u001b[39m.\u001b[39;49mtransform(final_meal_csv\u001b[39m.\u001b[39;49miloc[\u001b[39m0\u001b[39;49m:\u001b[39m7\u001b[39;49m]\u001b[39m.\u001b[39;49mto_numpy())[\u001b[39m0\u001b[39m]\n",
      "File \u001b[1;32mc:\\Users\\User\\AppData\\Local\\Programs\\Python\\Python311\\Lib\\site-packages\\sklearn\\pipeline.py:696\u001b[0m, in \u001b[0;36mPipeline.transform\u001b[1;34m(self, X)\u001b[0m\n\u001b[0;32m    694\u001b[0m Xt \u001b[39m=\u001b[39m X\n\u001b[0;32m    695\u001b[0m \u001b[39mfor\u001b[39;00m _, _, transform \u001b[39min\u001b[39;00m \u001b[39mself\u001b[39m\u001b[39m.\u001b[39m_iter():\n\u001b[1;32m--> 696\u001b[0m     Xt \u001b[39m=\u001b[39m transform\u001b[39m.\u001b[39;49mtransform(Xt)\n\u001b[0;32m    697\u001b[0m \u001b[39mreturn\u001b[39;00m Xt\n",
      "File \u001b[1;32mc:\\Users\\User\\AppData\\Local\\Programs\\Python\\Python311\\Lib\\site-packages\\sklearn\\utils\\_set_output.py:157\u001b[0m, in \u001b[0;36m_wrap_method_output.<locals>.wrapped\u001b[1;34m(self, X, *args, **kwargs)\u001b[0m\n\u001b[0;32m    155\u001b[0m \u001b[39m@wraps\u001b[39m(f)\n\u001b[0;32m    156\u001b[0m \u001b[39mdef\u001b[39;00m \u001b[39mwrapped\u001b[39m(\u001b[39mself\u001b[39m, X, \u001b[39m*\u001b[39margs, \u001b[39m*\u001b[39m\u001b[39m*\u001b[39mkwargs):\n\u001b[1;32m--> 157\u001b[0m     data_to_wrap \u001b[39m=\u001b[39m f(\u001b[39mself\u001b[39;49m, X, \u001b[39m*\u001b[39;49margs, \u001b[39m*\u001b[39;49m\u001b[39m*\u001b[39;49mkwargs)\n\u001b[0;32m    158\u001b[0m     \u001b[39mif\u001b[39;00m \u001b[39misinstance\u001b[39m(data_to_wrap, \u001b[39mtuple\u001b[39m):\n\u001b[0;32m    159\u001b[0m         \u001b[39m# only wrap the first output for cross decomposition\u001b[39;00m\n\u001b[0;32m    160\u001b[0m         return_tuple \u001b[39m=\u001b[39m (\n\u001b[0;32m    161\u001b[0m             _wrap_data_with_container(method, data_to_wrap[\u001b[39m0\u001b[39m], X, \u001b[39mself\u001b[39m),\n\u001b[0;32m    162\u001b[0m             \u001b[39m*\u001b[39mdata_to_wrap[\u001b[39m1\u001b[39m:],\n\u001b[0;32m    163\u001b[0m         )\n",
      "File \u001b[1;32mc:\\Users\\User\\AppData\\Local\\Programs\\Python\\Python311\\Lib\\site-packages\\sklearn\\preprocessing\\_data.py:1006\u001b[0m, in \u001b[0;36mStandardScaler.transform\u001b[1;34m(self, X, copy)\u001b[0m\n\u001b[0;32m   1003\u001b[0m check_is_fitted(\u001b[39mself\u001b[39m)\n\u001b[0;32m   1005\u001b[0m copy \u001b[39m=\u001b[39m copy \u001b[39mif\u001b[39;00m copy \u001b[39mis\u001b[39;00m \u001b[39mnot\u001b[39;00m \u001b[39mNone\u001b[39;00m \u001b[39melse\u001b[39;00m \u001b[39mself\u001b[39m\u001b[39m.\u001b[39mcopy\n\u001b[1;32m-> 1006\u001b[0m X \u001b[39m=\u001b[39m \u001b[39mself\u001b[39;49m\u001b[39m.\u001b[39;49m_validate_data(\n\u001b[0;32m   1007\u001b[0m     X,\n\u001b[0;32m   1008\u001b[0m     reset\u001b[39m=\u001b[39;49m\u001b[39mFalse\u001b[39;49;00m,\n\u001b[0;32m   1009\u001b[0m     accept_sparse\u001b[39m=\u001b[39;49m\u001b[39m\"\u001b[39;49m\u001b[39mcsr\u001b[39;49m\u001b[39m\"\u001b[39;49m,\n\u001b[0;32m   1010\u001b[0m     copy\u001b[39m=\u001b[39;49mcopy,\n\u001b[0;32m   1011\u001b[0m     dtype\u001b[39m=\u001b[39;49mFLOAT_DTYPES,\n\u001b[0;32m   1012\u001b[0m     force_all_finite\u001b[39m=\u001b[39;49m\u001b[39m\"\u001b[39;49m\u001b[39mallow-nan\u001b[39;49m\u001b[39m\"\u001b[39;49m,\n\u001b[0;32m   1013\u001b[0m )\n\u001b[0;32m   1015\u001b[0m \u001b[39mif\u001b[39;00m sparse\u001b[39m.\u001b[39missparse(X):\n\u001b[0;32m   1016\u001b[0m     \u001b[39mif\u001b[39;00m \u001b[39mself\u001b[39m\u001b[39m.\u001b[39mwith_mean:\n",
      "File \u001b[1;32mc:\\Users\\User\\AppData\\Local\\Programs\\Python\\Python311\\Lib\\site-packages\\sklearn\\base.py:605\u001b[0m, in \u001b[0;36mBaseEstimator._validate_data\u001b[1;34m(self, X, y, reset, validate_separately, cast_to_ndarray, **check_params)\u001b[0m\n\u001b[0;32m    603\u001b[0m         out \u001b[39m=\u001b[39m X, y\n\u001b[0;32m    604\u001b[0m \u001b[39melif\u001b[39;00m \u001b[39mnot\u001b[39;00m no_val_X \u001b[39mand\u001b[39;00m no_val_y:\n\u001b[1;32m--> 605\u001b[0m     out \u001b[39m=\u001b[39m check_array(X, input_name\u001b[39m=\u001b[39;49m\u001b[39m\"\u001b[39;49m\u001b[39mX\u001b[39;49m\u001b[39m\"\u001b[39;49m, \u001b[39m*\u001b[39;49m\u001b[39m*\u001b[39;49mcheck_params)\n\u001b[0;32m    606\u001b[0m \u001b[39melif\u001b[39;00m no_val_X \u001b[39mand\u001b[39;00m \u001b[39mnot\u001b[39;00m no_val_y:\n\u001b[0;32m    607\u001b[0m     out \u001b[39m=\u001b[39m _check_y(y, \u001b[39m*\u001b[39m\u001b[39m*\u001b[39mcheck_params)\n",
      "File \u001b[1;32mc:\\Users\\User\\AppData\\Local\\Programs\\Python\\Python311\\Lib\\site-packages\\sklearn\\utils\\validation.py:915\u001b[0m, in \u001b[0;36mcheck_array\u001b[1;34m(array, accept_sparse, accept_large_sparse, dtype, order, copy, force_all_finite, ensure_2d, allow_nd, ensure_min_samples, ensure_min_features, estimator, input_name)\u001b[0m\n\u001b[0;32m    913\u001b[0m         array \u001b[39m=\u001b[39m xp\u001b[39m.\u001b[39mastype(array, dtype, copy\u001b[39m=\u001b[39m\u001b[39mFalse\u001b[39;00m)\n\u001b[0;32m    914\u001b[0m     \u001b[39melse\u001b[39;00m:\n\u001b[1;32m--> 915\u001b[0m         array \u001b[39m=\u001b[39m _asarray_with_order(array, order\u001b[39m=\u001b[39;49morder, dtype\u001b[39m=\u001b[39;49mdtype, xp\u001b[39m=\u001b[39;49mxp)\n\u001b[0;32m    916\u001b[0m \u001b[39mexcept\u001b[39;00m ComplexWarning \u001b[39mas\u001b[39;00m complex_warning:\n\u001b[0;32m    917\u001b[0m     \u001b[39mraise\u001b[39;00m \u001b[39mValueError\u001b[39;00m(\n\u001b[0;32m    918\u001b[0m         \u001b[39m\"\u001b[39m\u001b[39mComplex data not supported\u001b[39m\u001b[39m\\n\u001b[39;00m\u001b[39m{}\u001b[39;00m\u001b[39m\\n\u001b[39;00m\u001b[39m\"\u001b[39m\u001b[39m.\u001b[39mformat(array)\n\u001b[0;32m    919\u001b[0m     ) \u001b[39mfrom\u001b[39;00m \u001b[39mcomplex_warning\u001b[39;00m\n",
      "File \u001b[1;32mc:\\Users\\User\\AppData\\Local\\Programs\\Python\\Python311\\Lib\\site-packages\\sklearn\\utils\\_array_api.py:380\u001b[0m, in \u001b[0;36m_asarray_with_order\u001b[1;34m(array, dtype, order, copy, xp)\u001b[0m\n\u001b[0;32m    378\u001b[0m     array \u001b[39m=\u001b[39m numpy\u001b[39m.\u001b[39marray(array, order\u001b[39m=\u001b[39morder, dtype\u001b[39m=\u001b[39mdtype)\n\u001b[0;32m    379\u001b[0m \u001b[39melse\u001b[39;00m:\n\u001b[1;32m--> 380\u001b[0m     array \u001b[39m=\u001b[39m numpy\u001b[39m.\u001b[39masarray(array, order\u001b[39m=\u001b[39morder, dtype\u001b[39m=\u001b[39mdtype)\n\u001b[0;32m    382\u001b[0m \u001b[39m# At this point array is a NumPy ndarray. We convert it to an array\u001b[39;00m\n\u001b[0;32m    383\u001b[0m \u001b[39m# container that is consistent with the input's namespace.\u001b[39;00m\n\u001b[0;32m    384\u001b[0m \u001b[39mreturn\u001b[39;00m xp\u001b[39m.\u001b[39masarray(array)\n",
      "\u001b[1;31mValueError\u001b[0m: could not convert string to float: '[168, 79, 33, 25, 157]'"
     ]
    }
   ],
   "source": [
    "pipeline.transform(final_meal_csv.iloc[0:7].to_numpy())[0]\n"
   ]
  }
 ],
 "metadata": {
  "kernelspec": {
   "display_name": "Python 3",
   "language": "python",
   "name": "python3"
  },
  "language_info": {
   "codemirror_mode": {
    "name": "ipython",
    "version": 3
   },
   "file_extension": ".py",
   "mimetype": "text/x-python",
   "name": "python",
   "nbconvert_exporter": "python",
   "pygments_lexer": "ipython3",
   "version": "3.11.2"
  }
 },
 "nbformat": 4,
 "nbformat_minor": 2
}
