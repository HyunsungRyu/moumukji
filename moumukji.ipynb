{
 "cells": [
  {
   "cell_type": "code",
   "execution_count": 28,
   "metadata": {},
   "outputs": [],
   "source": [
    "import pandas as pd\n",
    "import numpy as np\n",
    "import tensorflow as tf\n",
    "import matplotlib.pyplot as plt\n",
    "import random"
   ]
  },
  {
   "cell_type": "code",
   "execution_count": 29,
   "metadata": {},
   "outputs": [],
   "source": [
    "main_dish = pd.read_csv('main_dish.csv')\n",
    "side_dish = pd.read_csv('side_dish.csv')\n",
    "kimchi = pd.read_csv('removed_kimchi.csv')\n",
    "rice = pd.read_csv('removed_rice.csv')\n",
    "soup = pd.read_csv('removed_soup.csv')"
   ]
  },
  {
   "cell_type": "code",
   "execution_count": 30,
   "metadata": {},
   "outputs": [
    {
     "data": {
      "text/html": [
       "<div>\n",
       "<style scoped>\n",
       "    .dataframe tbody tr th:only-of-type {\n",
       "        vertical-align: middle;\n",
       "    }\n",
       "\n",
       "    .dataframe tbody tr th {\n",
       "        vertical-align: top;\n",
       "    }\n",
       "\n",
       "    .dataframe thead th {\n",
       "        text-align: right;\n",
       "    }\n",
       "</style>\n",
       "<table border=\"1\" class=\"dataframe\">\n",
       "  <thead>\n",
       "    <tr style=\"text-align: right;\">\n",
       "      <th></th>\n",
       "      <th>RecipeID</th>\n",
       "      <th>Name</th>\n",
       "      <th>식품대분류</th>\n",
       "      <th>식품상세분류</th>\n",
       "      <th>1회제공량(g)</th>\n",
       "      <th>calories</th>\n",
       "      <th>carbohydrate</th>\n",
       "      <th>protein</th>\n",
       "      <th>fat</th>\n",
       "      <th>sugar</th>\n",
       "      <th>sodium</th>\n",
       "    </tr>\n",
       "  </thead>\n",
       "  <tbody>\n",
       "    <tr>\n",
       "      <th>0</th>\n",
       "      <td>1</td>\n",
       "      <td>오징어순대</td>\n",
       "      <td>찜류</td>\n",
       "      <td>어패류찜</td>\n",
       "      <td>350</td>\n",
       "      <td>466.86</td>\n",
       "      <td>58.3</td>\n",
       "      <td>45.7</td>\n",
       "      <td>5.6</td>\n",
       "      <td>0.4</td>\n",
       "      <td>1258.71</td>\n",
       "    </tr>\n",
       "    <tr>\n",
       "      <th>1</th>\n",
       "      <td>2</td>\n",
       "      <td>대구찜</td>\n",
       "      <td>찜류</td>\n",
       "      <td>어패류찜</td>\n",
       "      <td>500</td>\n",
       "      <td>376.42</td>\n",
       "      <td>24.7</td>\n",
       "      <td>51.7</td>\n",
       "      <td>7.9</td>\n",
       "      <td>5.7</td>\n",
       "      <td>1898.67</td>\n",
       "    </tr>\n",
       "    <tr>\n",
       "      <th>2</th>\n",
       "      <td>3</td>\n",
       "      <td>동태찜</td>\n",
       "      <td>찜류</td>\n",
       "      <td>어패류찜</td>\n",
       "      <td>500</td>\n",
       "      <td>394.32</td>\n",
       "      <td>25.8</td>\n",
       "      <td>50.9</td>\n",
       "      <td>9.7</td>\n",
       "      <td>5.7</td>\n",
       "      <td>1985.60</td>\n",
       "    </tr>\n",
       "    <tr>\n",
       "      <th>3</th>\n",
       "      <td>4</td>\n",
       "      <td>돼지등갈비찜</td>\n",
       "      <td>찜류</td>\n",
       "      <td>육류찜</td>\n",
       "      <td>450</td>\n",
       "      <td>961.04</td>\n",
       "      <td>57.4</td>\n",
       "      <td>72.1</td>\n",
       "      <td>49.2</td>\n",
       "      <td>24.1</td>\n",
       "      <td>2395.17</td>\n",
       "    </tr>\n",
       "    <tr>\n",
       "      <th>4</th>\n",
       "      <td>5</td>\n",
       "      <td>돼지머리고기</td>\n",
       "      <td>찜류</td>\n",
       "      <td>육류찜</td>\n",
       "      <td>200</td>\n",
       "      <td>650.00</td>\n",
       "      <td>3.5</td>\n",
       "      <td>42.4</td>\n",
       "      <td>52.0</td>\n",
       "      <td>0.1</td>\n",
       "      <td>333.64</td>\n",
       "    </tr>\n",
       "  </tbody>\n",
       "</table>\n",
       "</div>"
      ],
      "text/plain": [
       "   RecipeID    Name 식품대분류 식품상세분류  1회제공량(g)  calories  carbohydrate  protein  \\\n",
       "0         1   오징어순대    찜류   어패류찜       350    466.86          58.3     45.7   \n",
       "1         2     대구찜    찜류   어패류찜       500    376.42          24.7     51.7   \n",
       "2         3     동태찜    찜류   어패류찜       500    394.32          25.8     50.9   \n",
       "3         4  돼지등갈비찜    찜류    육류찜       450    961.04          57.4     72.1   \n",
       "4         5  돼지머리고기    찜류    육류찜       200    650.00           3.5     42.4   \n",
       "\n",
       "    fat  sugar   sodium  \n",
       "0   5.6    0.4  1258.71  \n",
       "1   7.9    5.7  1898.67  \n",
       "2   9.7    5.7  1985.60  \n",
       "3  49.2   24.1  2395.17  \n",
       "4  52.0    0.1   333.64  "
      ]
     },
     "execution_count": 30,
     "metadata": {},
     "output_type": "execute_result"
    }
   ],
   "source": [
    "main_dish.head()\n",
    "# side_dish.head()\n",
    "# kimchi.head()\n",
    "# rice.head()\n",
    "# soup.head()"
   ]
  },
  {
   "cell_type": "code",
   "execution_count": 31,
   "metadata": {},
   "outputs": [
    {
     "name": "stdout",
     "output_type": "stream",
     "text": [
      "<class 'pandas.core.frame.DataFrame'>\n",
      "RangeIndex: 202 entries, 0 to 201\n",
      "Data columns (total 11 columns):\n",
      " #   Column        Non-Null Count  Dtype  \n",
      "---  ------        --------------  -----  \n",
      " 0   RecipeID      202 non-null    int64  \n",
      " 1   Name          202 non-null    object \n",
      " 2   식품대분류         202 non-null    object \n",
      " 3   식품상세분류        202 non-null    object \n",
      " 4   1회제공량(g)      202 non-null    int64  \n",
      " 5   calories      202 non-null    float64\n",
      " 6   carbohydrate  202 non-null    float64\n",
      " 7   protein       202 non-null    float64\n",
      " 8   fat           202 non-null    float64\n",
      " 9   sugar         202 non-null    float64\n",
      " 10  sodium        202 non-null    float64\n",
      "dtypes: float64(6), int64(2), object(3)\n",
      "memory usage: 17.5+ KB\n"
     ]
    }
   ],
   "source": [
    "main_dish.info()\n",
    "# side_dish.info()\n",
    "# kimchi.info()\n",
    "# rice.info()\n",
    "# soup.info()"
   ]
  },
  {
   "cell_type": "code",
   "execution_count": 32,
   "metadata": {},
   "outputs": [
    {
     "data": {
      "image/png": "[encoded data removed]",
      "text/plain": [
       "<Figure size 640x480 with 1 Axes>"
      ]
     },
     "metadata": {},
     "output_type": "display_data"
    }
   ],
   "source": [
    "import pylab \n",
    "import scipy.stats as stats\n",
    "stats.probplot(main_dish.calories.to_numpy(), dist=\"norm\", plot=pylab)\n",
    "pylab.show()"
   ]
  },
  {
   "cell_type": "code",
   "execution_count": 33,
   "metadata": {},
   "outputs": [],
   "source": [
    "main_dish_dataset=main_dish.copy()\n",
    "side_dish_dataset=side_dish.copy()\n",
    "kimchi_dataset=kimchi.copy()\n",
    "rice_dataset=rice.copy()\n",
    "soup_dataset=soup.copy()\n",
    "columns=['RecipeID','Name','calories','carbohydrate','protein','fat','sugar','sodium']\n",
    "main_dish_dataset=main_dish_dataset[columns]\n",
    "side_dish_dataset=side_dish_dataset[columns]\n",
    "kimchi_dataset=kimchi_dataset[columns]\n",
    "rice_dataset=rice_dataset[columns]\n",
    "soup_dataset=soup_dataset[columns]"
   ]
  },
  {
   "cell_type": "code",
   "execution_count": 34,
   "metadata": {},
   "outputs": [
    {
     "name": "stdout",
     "output_type": "stream",
     "text": [
      "[[165, 108, 48, 22, 63], [25, 79, 34, 23, 132], [26, 19, 14, 5, 33], [102, 133, 16, 21, 83], [35, 94, 54, 3, 56], [186, 151, 48, 17, 63], [113, 127, 33, 6, 161], [135, 135, 50, 15, 22], [196, 13, 14, 4, 57], [73, 77, 43, 17, 35], [107, 9, 45, 16, 135], [77, 146, 55, 5, 33], [99, 65, 43, 9, 26], [109, 59, 20, 10, 40], [70, 54, 45, 16, 72], [90, 12, 31, 26, 74], [35, 113, 19, 1, 16], [146, 102, 23, 9, 103], [115, 41, 2, 4, 69], [56, 56, 3, 6, 128], [159, 16, 47, 2, 85], [99, 119, 36, 21, 105], [119, 131, 26, 6, 145], [118, 22, 40, 1, 169], [40, 148, 34, 24, 18], [2, 18, 6, 10, 43], [167, 7, 8, 18, 85], [87, 78, 31, 9, 67], [177, 12, 10, 9, 159], [78, 122, 4, 26, 40], [87, 54, 39, 8, 61], [177, 15, 52, 11, 71], [188, 33, 45, 15, 60], [81, 26, 53, 22, 58], [199, 146, 4, 11, 78], [6, 145, 51, 14, 144], [36, 87, 35, 24, 119], [122, 58, 46, 2, 125], [189, 21, 26, 25, 2], [33, 4, 42, 14, 149], [199, 3, 6, 8, 144], [129, 133, 43, 19, 186], [167, 108, 52, 3, 184], [9, 68, 46, 22, 21], [199, 72, 53, 6, 61], [177, 25, 26, 21, 115], [111, 65, 36, 7, 152], [161, 106, 52, 18, 142], [106, 33, 20, 24, 4], [28, 30, 47, 13, 168], [17, 43, 11, 6, 59], [116, 39, 36, 11, 72], [178, 41, 21, 17, 73], [136, 20, 29, 8, 118], [185, 123, 8, 14, 69], [37, 57, 37, 5, 135], [45, 19, 28, 8, 62], [84, 145, 54, 13, 168], [45, 69, 40, 8, 99], [101, 2, 32, 25, 174], [85, 2, 40, 9, 35], [43, 118, 33, 13, 68], [130, 48, 24, 20, 124], [82, 69, 48, 17, 102], [70, 8, 28, 2, 63], [187, 109, 39, 17, 108], [100, 74, 50, 6, 140], [60, 99, 36, 17, 171], [35, 141, 13, 10, 41], [119, 67, 53, 9, 34], [73, 127, 2, 14, 92], [113, 71, 21, 3, 13], [36, 76, 1, 11, 171], [194, 43, 37, 5, 66], [72, 27, 9, 9, 23], [25, 46, 43, 4, 49], [162, 31, 19, 11, 67], [173, 84, 1, 18, 39], [15, 75, 2, 2, 35], [193, 134, 25, 1, 101], [2, 142, 4, 19, 85], [164, 131, 9, 8, 76], [67, 76, 3, 8, 57], [169, 93, 37, 7, 99], [181, 25, 42, 9, 170], [110, 85, 25, 2, 142], [183, 64, 28, 8, 58], [71, 84, 22, 22, 59], [76, 28, 44, 16, 158], [83, 16, 36, 15, 35], [6, 71, 48, 21, 8], [172, 8, 27, 21, 175], [151, 50, 28, 26, 11], [86, 103, 22, 7, 137], [75, 66, 29, 14, 164], [183, 44, 20, 22, 12], [82, 38, 4, 21, 45], [188, 145, 55, 10, 7], [174, 39, 47, 1, 76], [59, 76, 13, 12, 72]]\n",
      "100\n"
     ]
    }
   ],
   "source": [
    "random_meal = []\n",
    "for i in range(0, 100):\n",
    "    list = []\n",
    "    main_random_num = random.randint(1, len(main_dish_dataset.index))\n",
    "    side_random_num = random.randint(1, len(side_dish_dataset.index))\n",
    "    rice_random_num = random.randint(1, len(rice_dataset.index))\n",
    "    kimchi_random_num = random.randint(1, len(kimchi_dataset.index))\n",
    "    soup_random_num = random.randint(1, len(soup_dataset.index))\n",
    "    list = [main_random_num, side_random_num, rice_random_num, kimchi_random_num, soup_random_num]\n",
    "    random_meal.append(list)\n",
    "print(random_meal)\n",
    "print(len(random_meal))\n",
    "\n"
   ]
  },
  {
   "cell_type": "code",
   "execution_count": 35,
   "metadata": {},
   "outputs": [
    {
     "name": "stdout",
     "output_type": "stream",
     "text": [
      "72\n",
      "RecipeID            72\n",
      "Name             배추된장국\n",
      "calories         79.08\n",
      "carbohydrate     10.33\n",
      "protein           5.85\n",
      "fat                1.6\n",
      "sugar              0.0\n",
      "sodium          890.79\n",
      "Name: 71, dtype: object\n",
      "[1023.0, 672.54, 1326.13, 1159.09, 1104.9599999999998, 1191.6299999999999, 977.83, 1527.43, 1373.22, 1587.89, 667.9699999999999, 1451.8200000000002, 1608.0800000000002, 933.2, 807.6899999999999, 998.05, 1357.08, 1028.03, 390.1, 950.8199999999999, 725.89, 1336.9199999999998, 1109.1, 1215.17, 1099.17, 1698.4100000000003, 1621.0900000000001, 1107.4399999999998, 1085.45, 1163.0299999999997, 947.25, 748.9899999999999, 681.57, 895.5999999999999, 1374.1299999999997, 1297.74, 803.1699999999998, 697.8, 1281.67, 1157.2, 921.28, 1366.1899999999998, 1267.6699999999998, 1334.09, 643.39, 1180.85, 1235.1699999999998, 1208.77, 976.1899999999999, 1633.81, 1127.5400000000002, 977.3, 619.77, 1210.12, 1059.09, 860.6999999999999, 1052.6, 1021.84, 895.6700000000001, 981.6800000000001, 904.5, 1001.3000000000001, 1007.9000000000001, 651.55, 882.05, 1281.02, 940.86, 1529.2, 1679.1100000000001, 998.6100000000001, 751.42, 824.5, 307.89, 1008.59, 1203.24, 1660.9299999999998, 643.25, 453.81, 340.67, 1214.71, 1272.63, 1566.38, 769.1899999999999, 888.1900000000002, 1226.79, 984.24, 752.6999999999999, 840.82, 1103.01, 1069.85, 1165.76, 1042.02, 716.02, 1158.0, 969.0300000000001, 1748.03, 984.08, 1088.1, 1801.28, 1623.03]\n",
      "100\n"
     ]
    }
   ],
   "source": [
    "random_meal_cal = [];random_meal_car = []\n",
    "random_meal_pro= [];random_meal_fat = []\n",
    "random_meal_sug = [];random_meal_sod = []\n",
    "data_set_list = [main_dish_dataset, side_dish_dataset, rice_dataset, kimchi_dataset, soup_dataset]\n",
    "for i in range(len(random_meal)):\n",
    "        meal_cal, meal_car, meal_pro, meal_fat, meal_sug, meal_sod = 0, 0, 0, 0, 0, 0\n",
    "        for j in range(5):\n",
    "                recipe_id = random_meal[i][j]\n",
    "                row = data_set_list[j][data_set_list[j]['RecipeID'] == recipe_id]\n",
    "                if not row.empty:\n",
    "                        row = row.iloc[0]\n",
    "                        cal = row['calories'];car = row['carbohydrate']\n",
    "                        pro = row['protein'];fat = row['fat']\n",
    "                        sug = row['sugar'];sod = row['sodium']   \n",
    "\n",
    "                        meal_cal += cal;meal_car += car\n",
    "                        meal_pro += pro;meal_fat += fat\n",
    "                        meal_sug += sug;meal_sod += sod\n",
    "\n",
    "        random_meal_cal.append(meal_cal);random_meal_car.append(meal_car)\n",
    "        random_meal_pro.append(meal_pro);random_meal_fat.append(meal_fat)\n",
    "        random_meal_sug.append(meal_sug);random_meal_sod.append(meal_sod)\n",
    "\n",
    "print(recipe_id)\n",
    "print(row)\n",
    "print(random_meal_cal)\n",
    "print(len(random_meal_cal))\n"
   ]
  },
  {
   "cell_type": "code",
   "execution_count": 36,
   "metadata": {},
   "outputs": [
    {
     "name": "stdout",
     "output_type": "stream",
     "text": [
      "[[165, 108, 48, 22, 63], [25, 79, 34, 23, 132], [26, 19, 14, 5, 33], [102, 133, 16, 21, 83], [35, 94, 54, 3, 56], [186, 151, 48, 17, 63], [113, 127, 33, 6, 161], [135, 135, 50, 15, 22], [196, 13, 14, 4, 57], [73, 77, 43, 17, 35], [107, 9, 45, 16, 135], [77, 146, 55, 5, 33], [99, 65, 43, 9, 26], [109, 59, 20, 10, 40], [70, 54, 45, 16, 72], [90, 12, 31, 26, 74], [35, 113, 19, 1, 16], [146, 102, 23, 9, 103], [115, 41, 2, 4, 69], [56, 56, 3, 6, 128], [159, 16, 47, 2, 85], [99, 119, 36, 21, 105], [119, 131, 26, 6, 145], [118, 22, 40, 1, 169], [40, 148, 34, 24, 18], [2, 18, 6, 10, 43], [167, 7, 8, 18, 85], [87, 78, 31, 9, 67], [177, 12, 10, 9, 159], [78, 122, 4, 26, 40], [87, 54, 39, 8, 61], [177, 15, 52, 11, 71], [188, 33, 45, 15, 60], [81, 26, 53, 22, 58], [199, 146, 4, 11, 78], [6, 145, 51, 14, 144], [36, 87, 35, 24, 119], [122, 58, 46, 2, 125], [189, 21, 26, 25, 2], [33, 4, 42, 14, 149], [199, 3, 6, 8, 144], [129, 133, 43, 19, 186], [167, 108, 52, 3, 184], [9, 68, 46, 22, 21], [199, 72, 53, 6, 61], [177, 25, 26, 21, 115], [111, 65, 36, 7, 152], [161, 106, 52, 18, 142], [106, 33, 20, 24, 4], [28, 30, 47, 13, 168], [17, 43, 11, 6, 59], [116, 39, 36, 11, 72], [178, 41, 21, 17, 73], [136, 20, 29, 8, 118], [185, 123, 8, 14, 69], [37, 57, 37, 5, 135], [45, 19, 28, 8, 62], [84, 145, 54, 13, 168], [45, 69, 40, 8, 99], [101, 2, 32, 25, 174], [85, 2, 40, 9, 35], [43, 118, 33, 13, 68], [130, 48, 24, 20, 124], [82, 69, 48, 17, 102], [70, 8, 28, 2, 63], [187, 109, 39, 17, 108], [100, 74, 50, 6, 140], [60, 99, 36, 17, 171], [35, 141, 13, 10, 41], [119, 67, 53, 9, 34], [73, 127, 2, 14, 92], [113, 71, 21, 3, 13], [36, 76, 1, 11, 171], [194, 43, 37, 5, 66], [72, 27, 9, 9, 23], [25, 46, 43, 4, 49], [162, 31, 19, 11, 67], [173, 84, 1, 18, 39], [15, 75, 2, 2, 35], [193, 134, 25, 1, 101], [2, 142, 4, 19, 85], [164, 131, 9, 8, 76], [67, 76, 3, 8, 57], [169, 93, 37, 7, 99], [181, 25, 42, 9, 170], [110, 85, 25, 2, 142], [183, 64, 28, 8, 58], [71, 84, 22, 22, 59], [76, 28, 44, 16, 158], [83, 16, 36, 15, 35], [6, 71, 48, 21, 8], [172, 8, 27, 21, 175], [151, 50, 28, 26, 11], [86, 103, 22, 7, 137], [75, 66, 29, 14, 164], [183, 44, 20, 22, 12], [82, 38, 4, 21, 45], [188, 145, 55, 10, 7], [174, 39, 47, 1, 76], [59, 76, 13, 12, 72]]\n"
     ]
    }
   ],
   "source": [
    "print(random_meal)"
   ]
  },
  {
   "cell_type": "code",
   "execution_count": 37,
   "metadata": {},
   "outputs": [],
   "source": [
    "max_daily_Calories=2700\n",
    "max_daily_Carbohydrate=325\n",
    "max_daily_Protein=200\n",
    "max_daily_fat=100\n",
    "max_daily_Sugar=40\n",
    "max_daily_Sodium=3000\n",
    "max_list=[max_daily_Calories, max_daily_Carbohydrate, max_daily_Protein, max_daily_fat, max_daily_Sugar, max_daily_Sodium]\n",
    "\n",
    "max_one_meal_Calories=1500\n",
    "max_one_meal_Carbohydrate=200\n",
    "max_one_meal_Protein=150\n",
    "max_one_meal_fat=60\n",
    "max_one_meal_Sugar=30\n",
    "max_one_meal_Sodium=2000\n",
    "max_one_meal_list=[max_one_meal_Calories, max_one_meal_Carbohydrate, max_one_meal_Protein, max_one_meal_fat, max_one_meal_Sugar, max_one_meal_Sodium]"
   ]
  },
  {
   "cell_type": "code",
   "execution_count": 38,
   "metadata": {},
   "outputs": [
    {
     "name": "stdout",
     "output_type": "stream",
     "text": [
      "[0, [25, 79, 34, 23, 132], 0, 0, 0, 0, 0, 0, 0, 0, 0, 0, 0, 0, 0, 0, 0, 0, 0, 0, 0, 0, 0, 0, 0, 0, 0, 0, 0, 0, 0, 0, 0, 0, 0, 0, 0, 0, 0, 0, 0, 0, 0, [9, 68, 46, 22, 21], 0, 0, 0, 0, 0, 0, 0, 0, [178, 41, 21, 17, 73], 0, 0, 0, 0, 0, 0, 0, 0, 0, 0, 0, 0, 0, 0, 0, 0, 0, 0, 0, 0, 0, 0, 0, 0, 0, 0, 0, 0, 0, 0, 0, 0, 0, 0, 0, 0, 0, 0, 0, 0, 0, [75, 66, 29, 14, 164], 0, 0, 0, 0, 0]\n",
      "[[25, 79, 34, 23, 132], [9, 68, 46, 22, 21], [178, 41, 21, 17, 73], [75, 66, 29, 14, 164]]\n",
      "4\n"
     ]
    }
   ],
   "source": [
    "filtered_random_meal = random_meal.copy()\n",
    "random_meal_nut = [random_meal_cal, random_meal_car, random_meal_pro, random_meal_fat, random_meal_sug, random_meal_sod]\n",
    "for i in range(100):\n",
    "    for j in range(6):\n",
    "        if random_meal_nut[j][i] > max_one_meal_list[j]:\n",
    "            filtered_random_meal[i] = 0\n",
    "print(filtered_random_meal)\n",
    "filtered_random_meal = [i for i in filtered_random_meal if i != 0]\n",
    "print(filtered_random_meal)\n",
    "print(len(filtered_random_meal))"
   ]
  },
  {
   "cell_type": "code",
   "execution_count": 39,
   "metadata": {},
   "outputs": [
    {
     "name": "stdout",
     "output_type": "stream",
     "text": [
      "[1023.0, 672.54, 1326.13, 1159.09]\n",
      "4\n",
      "4\n"
     ]
    }
   ],
   "source": [
    "filtered_meal_cal = [];filtered_meal_car = []\n",
    "filtered_meal_pro= [];filtered_meal_fat = []\n",
    "filtered_meal_sug = [];filtered_meal_sod = []\n",
    "for i in range(len(filtered_random_meal)):\n",
    "        meal_cal, meal_car, meal_pro, meal_fat, meal_sug, meal_sod = 0, 0, 0, 0, 0, 0\n",
    "        for j in range(5):\n",
    "                recipe_id = random_meal[i][j]\n",
    "                row = data_set_list[j][data_set_list[j]['RecipeID'] == recipe_id]\n",
    "                if not row.empty:\n",
    "                        row = row.iloc[0]\n",
    "                        cal = row['calories'];car = row['carbohydrate']\n",
    "                        pro = row['protein'];fat = row['fat']\n",
    "                        sug = row['sugar'];sod = row['sodium']   \n",
    "\n",
    "                        meal_cal += cal;meal_car += car\n",
    "                        meal_pro += pro;meal_fat += fat\n",
    "                        meal_sug += sug;meal_sod += sod\n",
    "\n",
    "        filtered_meal_cal.append(meal_cal);filtered_meal_car.append(meal_car)\n",
    "        filtered_meal_pro.append(meal_pro);filtered_meal_fat.append(meal_fat)\n",
    "        filtered_meal_sug.append(meal_sug);filtered_meal_sod.append(meal_sod)\n",
    "filtered_meal_list = [filtered_meal_cal, filtered_meal_car, filtered_meal_pro, filtered_meal_fat, filtered_meal_sug, filtered_meal_sod]\n",
    "print(filtered_meal_cal)\n",
    "print(len(filtered_meal_cal))\n",
    "print(len(filtered_meal_sod))"
   ]
  },
  {
   "cell_type": "code",
   "execution_count": 40,
   "metadata": {},
   "outputs": [
    {
     "name": "stdout",
     "output_type": "stream",
     "text": [
      "   calories\n",
      "0   1023.00\n",
      "1    672.54\n",
      "2   1326.13\n",
      "3   1159.09\n"
     ]
    }
   ],
   "source": [
    "final_meal_csv = pd.DataFrame(filtered_meal_cal, columns = [\"calories\"])\n",
    "print(final_meal_csv)"
   ]
  },
  {
   "cell_type": "code",
   "execution_count": 41,
   "metadata": {},
   "outputs": [
    {
     "ename": "TypeError",
     "evalue": "float() argument must be a string or a real number, not 'generator'",
     "output_type": "error",
     "traceback": [
      "\u001b[1;31m---------------------------------------------------------------------------\u001b[0m",
      "\u001b[1;31mTypeError\u001b[0m                                 Traceback (most recent call last)",
      "\u001b[1;32mc:\\git_files\\moumukji\\moumukji.ipynb Cell 14\u001b[0m line \u001b[0;36m3\n\u001b[0;32m      <a href='vscode-notebook-cell:/c%3A/git_files/moumukji/moumukji.ipynb#X20sZmlsZQ%3D%3D?line=0'>1</a>\u001b[0m \u001b[39mfrom\u001b[39;00m \u001b[39msklearn\u001b[39;00m\u001b[39m.\u001b[39;00m\u001b[39mpreprocessing\u001b[39;00m \u001b[39mimport\u001b[39;00m StandardScaler\n\u001b[0;32m      <a href='vscode-notebook-cell:/c%3A/git_files/moumukji/moumukji.ipynb#X20sZmlsZQ%3D%3D?line=1'>2</a>\u001b[0m scaler \u001b[39m=\u001b[39m StandardScaler()\n\u001b[1;32m----> <a href='vscode-notebook-cell:/c%3A/git_files/moumukji/moumukji.ipynb#X20sZmlsZQ%3D%3D?line=2'>3</a>\u001b[0m final_data \u001b[39m=\u001b[39m scaler\u001b[39m.\u001b[39;49mfit_transform(i \u001b[39mfor\u001b[39;49;00m i \u001b[39min\u001b[39;49;00m filtered_meal_list)\n",
      "File \u001b[1;32mc:\\Users\\User\\AppData\\Local\\Programs\\Python\\Python311\\Lib\\site-packages\\sklearn\\utils\\_set_output.py:157\u001b[0m, in \u001b[0;36m_wrap_method_output.<locals>.wrapped\u001b[1;34m(self, X, *args, **kwargs)\u001b[0m\n\u001b[0;32m    155\u001b[0m \u001b[39m@wraps\u001b[39m(f)\n\u001b[0;32m    156\u001b[0m \u001b[39mdef\u001b[39;00m \u001b[39mwrapped\u001b[39m(\u001b[39mself\u001b[39m, X, \u001b[39m*\u001b[39margs, \u001b[39m*\u001b[39m\u001b[39m*\u001b[39mkwargs):\n\u001b[1;32m--> 157\u001b[0m     data_to_wrap \u001b[39m=\u001b[39m f(\u001b[39mself\u001b[39;49m, X, \u001b[39m*\u001b[39;49margs, \u001b[39m*\u001b[39;49m\u001b[39m*\u001b[39;49mkwargs)\n\u001b[0;32m    158\u001b[0m     \u001b[39mif\u001b[39;00m \u001b[39misinstance\u001b[39m(data_to_wrap, \u001b[39mtuple\u001b[39m):\n\u001b[0;32m    159\u001b[0m         \u001b[39m# only wrap the first output for cross decomposition\u001b[39;00m\n\u001b[0;32m    160\u001b[0m         return_tuple \u001b[39m=\u001b[39m (\n\u001b[0;32m    161\u001b[0m             _wrap_data_with_container(method, data_to_wrap[\u001b[39m0\u001b[39m], X, \u001b[39mself\u001b[39m),\n\u001b[0;32m    162\u001b[0m             \u001b[39m*\u001b[39mdata_to_wrap[\u001b[39m1\u001b[39m:],\n\u001b[0;32m    163\u001b[0m         )\n",
      "File \u001b[1;32mc:\\Users\\User\\AppData\\Local\\Programs\\Python\\Python311\\Lib\\site-packages\\sklearn\\base.py:916\u001b[0m, in \u001b[0;36mTransformerMixin.fit_transform\u001b[1;34m(self, X, y, **fit_params)\u001b[0m\n\u001b[0;32m    912\u001b[0m \u001b[39m# non-optimized default implementation; override when a better\u001b[39;00m\n\u001b[0;32m    913\u001b[0m \u001b[39m# method is possible for a given clustering algorithm\u001b[39;00m\n\u001b[0;32m    914\u001b[0m \u001b[39mif\u001b[39;00m y \u001b[39mis\u001b[39;00m \u001b[39mNone\u001b[39;00m:\n\u001b[0;32m    915\u001b[0m     \u001b[39m# fit method of arity 1 (unsupervised transformation)\u001b[39;00m\n\u001b[1;32m--> 916\u001b[0m     \u001b[39mreturn\u001b[39;00m \u001b[39mself\u001b[39;49m\u001b[39m.\u001b[39;49mfit(X, \u001b[39m*\u001b[39;49m\u001b[39m*\u001b[39;49mfit_params)\u001b[39m.\u001b[39mtransform(X)\n\u001b[0;32m    917\u001b[0m \u001b[39melse\u001b[39;00m:\n\u001b[0;32m    918\u001b[0m     \u001b[39m# fit method of arity 2 (supervised transformation)\u001b[39;00m\n\u001b[0;32m    919\u001b[0m     \u001b[39mreturn\u001b[39;00m \u001b[39mself\u001b[39m\u001b[39m.\u001b[39mfit(X, y, \u001b[39m*\u001b[39m\u001b[39m*\u001b[39mfit_params)\u001b[39m.\u001b[39mtransform(X)\n",
      "File \u001b[1;32mc:\\Users\\User\\AppData\\Local\\Programs\\Python\\Python311\\Lib\\site-packages\\sklearn\\preprocessing\\_data.py:839\u001b[0m, in \u001b[0;36mStandardScaler.fit\u001b[1;34m(self, X, y, sample_weight)\u001b[0m\n\u001b[0;32m    837\u001b[0m \u001b[39m# Reset internal state before fitting\u001b[39;00m\n\u001b[0;32m    838\u001b[0m \u001b[39mself\u001b[39m\u001b[39m.\u001b[39m_reset()\n\u001b[1;32m--> 839\u001b[0m \u001b[39mreturn\u001b[39;00m \u001b[39mself\u001b[39;49m\u001b[39m.\u001b[39;49mpartial_fit(X, y, sample_weight)\n",
      "File \u001b[1;32mc:\\Users\\User\\AppData\\Local\\Programs\\Python\\Python311\\Lib\\site-packages\\sklearn\\base.py:1152\u001b[0m, in \u001b[0;36m_fit_context.<locals>.decorator.<locals>.wrapper\u001b[1;34m(estimator, *args, **kwargs)\u001b[0m\n\u001b[0;32m   1145\u001b[0m     estimator\u001b[39m.\u001b[39m_validate_params()\n\u001b[0;32m   1147\u001b[0m \u001b[39mwith\u001b[39;00m config_context(\n\u001b[0;32m   1148\u001b[0m     skip_parameter_validation\u001b[39m=\u001b[39m(\n\u001b[0;32m   1149\u001b[0m         prefer_skip_nested_validation \u001b[39mor\u001b[39;00m global_skip_validation\n\u001b[0;32m   1150\u001b[0m     )\n\u001b[0;32m   1151\u001b[0m ):\n\u001b[1;32m-> 1152\u001b[0m     \u001b[39mreturn\u001b[39;00m fit_method(estimator, \u001b[39m*\u001b[39;49margs, \u001b[39m*\u001b[39;49m\u001b[39m*\u001b[39;49mkwargs)\n",
      "File \u001b[1;32mc:\\Users\\User\\AppData\\Local\\Programs\\Python\\Python311\\Lib\\site-packages\\sklearn\\preprocessing\\_data.py:875\u001b[0m, in \u001b[0;36mStandardScaler.partial_fit\u001b[1;34m(self, X, y, sample_weight)\u001b[0m\n\u001b[0;32m    843\u001b[0m \u001b[39m\u001b[39m\u001b[39m\"\"\"Online computation of mean and std on X for later scaling.\u001b[39;00m\n\u001b[0;32m    844\u001b[0m \n\u001b[0;32m    845\u001b[0m \u001b[39mAll of X is processed as a single batch. This is intended for cases\u001b[39;00m\n\u001b[1;32m   (...)\u001b[0m\n\u001b[0;32m    872\u001b[0m \u001b[39m    Fitted scaler.\u001b[39;00m\n\u001b[0;32m    873\u001b[0m \u001b[39m\"\"\"\u001b[39;00m\n\u001b[0;32m    874\u001b[0m first_call \u001b[39m=\u001b[39m \u001b[39mnot\u001b[39;00m \u001b[39mhasattr\u001b[39m(\u001b[39mself\u001b[39m, \u001b[39m\"\u001b[39m\u001b[39mn_samples_seen_\u001b[39m\u001b[39m\"\u001b[39m)\n\u001b[1;32m--> 875\u001b[0m X \u001b[39m=\u001b[39m \u001b[39mself\u001b[39;49m\u001b[39m.\u001b[39;49m_validate_data(\n\u001b[0;32m    876\u001b[0m     X,\n\u001b[0;32m    877\u001b[0m     accept_sparse\u001b[39m=\u001b[39;49m(\u001b[39m\"\u001b[39;49m\u001b[39mcsr\u001b[39;49m\u001b[39m\"\u001b[39;49m, \u001b[39m\"\u001b[39;49m\u001b[39mcsc\u001b[39;49m\u001b[39m\"\u001b[39;49m),\n\u001b[0;32m    878\u001b[0m     dtype\u001b[39m=\u001b[39;49mFLOAT_DTYPES,\n\u001b[0;32m    879\u001b[0m     force_all_finite\u001b[39m=\u001b[39;49m\u001b[39m\"\u001b[39;49m\u001b[39mallow-nan\u001b[39;49m\u001b[39m\"\u001b[39;49m,\n\u001b[0;32m    880\u001b[0m     reset\u001b[39m=\u001b[39;49mfirst_call,\n\u001b[0;32m    881\u001b[0m )\n\u001b[0;32m    882\u001b[0m n_features \u001b[39m=\u001b[39m X\u001b[39m.\u001b[39mshape[\u001b[39m1\u001b[39m]\n\u001b[0;32m    884\u001b[0m \u001b[39mif\u001b[39;00m sample_weight \u001b[39mis\u001b[39;00m \u001b[39mnot\u001b[39;00m \u001b[39mNone\u001b[39;00m:\n",
      "File \u001b[1;32mc:\\Users\\User\\AppData\\Local\\Programs\\Python\\Python311\\Lib\\site-packages\\sklearn\\base.py:605\u001b[0m, in \u001b[0;36mBaseEstimator._validate_data\u001b[1;34m(self, X, y, reset, validate_separately, cast_to_ndarray, **check_params)\u001b[0m\n\u001b[0;32m    603\u001b[0m         out \u001b[39m=\u001b[39m X, y\n\u001b[0;32m    604\u001b[0m \u001b[39melif\u001b[39;00m \u001b[39mnot\u001b[39;00m no_val_X \u001b[39mand\u001b[39;00m no_val_y:\n\u001b[1;32m--> 605\u001b[0m     out \u001b[39m=\u001b[39m check_array(X, input_name\u001b[39m=\u001b[39;49m\u001b[39m\"\u001b[39;49m\u001b[39mX\u001b[39;49m\u001b[39m\"\u001b[39;49m, \u001b[39m*\u001b[39;49m\u001b[39m*\u001b[39;49mcheck_params)\n\u001b[0;32m    606\u001b[0m \u001b[39melif\u001b[39;00m no_val_X \u001b[39mand\u001b[39;00m \u001b[39mnot\u001b[39;00m no_val_y:\n\u001b[0;32m    607\u001b[0m     out \u001b[39m=\u001b[39m _check_y(y, \u001b[39m*\u001b[39m\u001b[39m*\u001b[39mcheck_params)\n",
      "File \u001b[1;32mc:\\Users\\User\\AppData\\Local\\Programs\\Python\\Python311\\Lib\\site-packages\\sklearn\\utils\\validation.py:915\u001b[0m, in \u001b[0;36mcheck_array\u001b[1;34m(array, accept_sparse, accept_large_sparse, dtype, order, copy, force_all_finite, ensure_2d, allow_nd, ensure_min_samples, ensure_min_features, estimator, input_name)\u001b[0m\n\u001b[0;32m    913\u001b[0m         array \u001b[39m=\u001b[39m xp\u001b[39m.\u001b[39mastype(array, dtype, copy\u001b[39m=\u001b[39m\u001b[39mFalse\u001b[39;00m)\n\u001b[0;32m    914\u001b[0m     \u001b[39melse\u001b[39;00m:\n\u001b[1;32m--> 915\u001b[0m         array \u001b[39m=\u001b[39m _asarray_with_order(array, order\u001b[39m=\u001b[39;49morder, dtype\u001b[39m=\u001b[39;49mdtype, xp\u001b[39m=\u001b[39;49mxp)\n\u001b[0;32m    916\u001b[0m \u001b[39mexcept\u001b[39;00m ComplexWarning \u001b[39mas\u001b[39;00m complex_warning:\n\u001b[0;32m    917\u001b[0m     \u001b[39mraise\u001b[39;00m \u001b[39mValueError\u001b[39;00m(\n\u001b[0;32m    918\u001b[0m         \u001b[39m\"\u001b[39m\u001b[39mComplex data not supported\u001b[39m\u001b[39m\\n\u001b[39;00m\u001b[39m{}\u001b[39;00m\u001b[39m\\n\u001b[39;00m\u001b[39m\"\u001b[39m\u001b[39m.\u001b[39mformat(array)\n\u001b[0;32m    919\u001b[0m     ) \u001b[39mfrom\u001b[39;00m \u001b[39mcomplex_warning\u001b[39;00m\n",
      "File \u001b[1;32mc:\\Users\\User\\AppData\\Local\\Programs\\Python\\Python311\\Lib\\site-packages\\sklearn\\utils\\_array_api.py:380\u001b[0m, in \u001b[0;36m_asarray_with_order\u001b[1;34m(array, dtype, order, copy, xp)\u001b[0m\n\u001b[0;32m    378\u001b[0m     array \u001b[39m=\u001b[39m numpy\u001b[39m.\u001b[39marray(array, order\u001b[39m=\u001b[39morder, dtype\u001b[39m=\u001b[39mdtype)\n\u001b[0;32m    379\u001b[0m \u001b[39melse\u001b[39;00m:\n\u001b[1;32m--> 380\u001b[0m     array \u001b[39m=\u001b[39m numpy\u001b[39m.\u001b[39;49masarray(array, order\u001b[39m=\u001b[39;49morder, dtype\u001b[39m=\u001b[39;49mdtype)\n\u001b[0;32m    382\u001b[0m \u001b[39m# At this point array is a NumPy ndarray. We convert it to an array\u001b[39;00m\n\u001b[0;32m    383\u001b[0m \u001b[39m# container that is consistent with the input's namespace.\u001b[39;00m\n\u001b[0;32m    384\u001b[0m \u001b[39mreturn\u001b[39;00m xp\u001b[39m.\u001b[39masarray(array)\n",
      "\u001b[1;31mTypeError\u001b[0m: float() argument must be a string or a real number, not 'generator'"
     ]
    }
   ],
   "source": [
    "from sklearn.preprocessing import StandardScaler\n",
    "scaler = StandardScaler()\n",
    "final_data = scaler.fit_transform()"
   ]
  },
  {
   "cell_type": "code",
   "execution_count": null,
   "metadata": {},
   "outputs": [],
   "source": []
  }
 ],
 "metadata": {
  "kernelspec": {
   "display_name": "Python 3",
   "language": "python",
   "name": "python3"
  },
  "language_info": {
   "codemirror_mode": {
    "name": "ipython",
    "version": 3
   },
   "file_extension": ".py",
   "mimetype": "text/x-python",
   "name": "python",
   "nbconvert_exporter": "python",
   "pygments_lexer": "ipython3",
   "version": "3.11.2"
  }
 },
 "nbformat": 4,
 "nbformat_minor": 2
}
