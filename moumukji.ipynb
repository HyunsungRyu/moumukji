{
 "cells": [
  {
   "cell_type": "code",
   "execution_count": 1,
   "metadata": {},
   "outputs": [],
   "source": [
    "import pandas as pd\n",
    "import numpy as np\n",
    "import tensorflow as tf\n",
    "import matplotlib.pyplot as plt\n",
    "import random"
   ]
  },
  {
   "cell_type": "code",
   "execution_count": 2,
   "metadata": {},
   "outputs": [],
   "source": [
    "main_dish = pd.read_csv('main_dish.csv')\n",
    "side_dish = pd.read_csv('side_dish.csv')\n",
    "kimchi = pd.read_csv('removed_kimchi.csv')\n",
    "rice = pd.read_csv('removed_rice.csv')\n",
    "soup = pd.read_csv('removed_soup.csv')"
   ]
  },
  {
   "cell_type": "code",
   "execution_count": 3,
   "metadata": {},
   "outputs": [
    {
     "data": {
      "text/html": [
       "<div>\n",
       "<style scoped>\n",
       "    .dataframe tbody tr th:only-of-type {\n",
       "        vertical-align: middle;\n",
       "    }\n",
       "\n",
       "    .dataframe tbody tr th {\n",
       "        vertical-align: top;\n",
       "    }\n",
       "\n",
       "    .dataframe thead th {\n",
       "        text-align: right;\n",
       "    }\n",
       "</style>\n",
       "<table border=\"1\" class=\"dataframe\">\n",
       "  <thead>\n",
       "    <tr style=\"text-align: right;\">\n",
       "      <th></th>\n",
       "      <th>RecipeID</th>\n",
       "      <th>Name</th>\n",
       "      <th>식품대분류</th>\n",
       "      <th>식품상세분류</th>\n",
       "      <th>1회제공량(g)</th>\n",
       "      <th>calories</th>\n",
       "      <th>carbohydrate</th>\n",
       "      <th>protein</th>\n",
       "      <th>fat</th>\n",
       "      <th>sugar</th>\n",
       "      <th>sodium</th>\n",
       "    </tr>\n",
       "  </thead>\n",
       "  <tbody>\n",
       "    <tr>\n",
       "      <th>0</th>\n",
       "      <td>1</td>\n",
       "      <td>오징어순대</td>\n",
       "      <td>찜류</td>\n",
       "      <td>어패류찜</td>\n",
       "      <td>350</td>\n",
       "      <td>466.86</td>\n",
       "      <td>58.3</td>\n",
       "      <td>45.7</td>\n",
       "      <td>5.6</td>\n",
       "      <td>0.4</td>\n",
       "      <td>1258.71</td>\n",
       "    </tr>\n",
       "    <tr>\n",
       "      <th>1</th>\n",
       "      <td>2</td>\n",
       "      <td>대구찜</td>\n",
       "      <td>찜류</td>\n",
       "      <td>어패류찜</td>\n",
       "      <td>500</td>\n",
       "      <td>376.42</td>\n",
       "      <td>24.7</td>\n",
       "      <td>51.7</td>\n",
       "      <td>7.9</td>\n",
       "      <td>5.7</td>\n",
       "      <td>1898.67</td>\n",
       "    </tr>\n",
       "    <tr>\n",
       "      <th>2</th>\n",
       "      <td>3</td>\n",
       "      <td>동태찜</td>\n",
       "      <td>찜류</td>\n",
       "      <td>어패류찜</td>\n",
       "      <td>500</td>\n",
       "      <td>394.32</td>\n",
       "      <td>25.8</td>\n",
       "      <td>50.9</td>\n",
       "      <td>9.7</td>\n",
       "      <td>5.7</td>\n",
       "      <td>1985.60</td>\n",
       "    </tr>\n",
       "    <tr>\n",
       "      <th>3</th>\n",
       "      <td>4</td>\n",
       "      <td>돼지등갈비찜</td>\n",
       "      <td>찜류</td>\n",
       "      <td>육류찜</td>\n",
       "      <td>450</td>\n",
       "      <td>961.04</td>\n",
       "      <td>57.4</td>\n",
       "      <td>72.1</td>\n",
       "      <td>49.2</td>\n",
       "      <td>24.1</td>\n",
       "      <td>2395.17</td>\n",
       "    </tr>\n",
       "    <tr>\n",
       "      <th>4</th>\n",
       "      <td>5</td>\n",
       "      <td>돼지머리고기</td>\n",
       "      <td>찜류</td>\n",
       "      <td>육류찜</td>\n",
       "      <td>200</td>\n",
       "      <td>650.00</td>\n",
       "      <td>3.5</td>\n",
       "      <td>42.4</td>\n",
       "      <td>52.0</td>\n",
       "      <td>0.1</td>\n",
       "      <td>333.64</td>\n",
       "    </tr>\n",
       "  </tbody>\n",
       "</table>\n",
       "</div>"
      ],
      "text/plain": [
       "   RecipeID    Name 식품대분류 식품상세분류  1회제공량(g)  calories  carbohydrate  protein  \\\n",
       "0         1   오징어순대    찜류   어패류찜       350    466.86          58.3     45.7   \n",
       "1         2     대구찜    찜류   어패류찜       500    376.42          24.7     51.7   \n",
       "2         3     동태찜    찜류   어패류찜       500    394.32          25.8     50.9   \n",
       "3         4  돼지등갈비찜    찜류    육류찜       450    961.04          57.4     72.1   \n",
       "4         5  돼지머리고기    찜류    육류찜       200    650.00           3.5     42.4   \n",
       "\n",
       "    fat  sugar   sodium  \n",
       "0   5.6    0.4  1258.71  \n",
       "1   7.9    5.7  1898.67  \n",
       "2   9.7    5.7  1985.60  \n",
       "3  49.2   24.1  2395.17  \n",
       "4  52.0    0.1   333.64  "
      ]
     },
     "execution_count": 3,
     "metadata": {},
     "output_type": "execute_result"
    }
   ],
   "source": [
    "main_dish.head()\n",
    "# side_dish.head()\n",
    "# kimchi.head()\n",
    "# rice.head()\n",
    "# soup.head()"
   ]
  },
  {
   "cell_type": "code",
   "execution_count": 4,
   "metadata": {},
   "outputs": [
    {
     "data": {
      "text/plain": [
       "0      466.86\n",
       "1      376.42\n",
       "2      394.32\n",
       "3      961.04\n",
       "4      650.00\n",
       "        ...  \n",
       "197     84.27\n",
       "198     37.80\n",
       "199    100.00\n",
       "200    113.00\n",
       "201     99.00\n",
       "Name: calories, Length: 202, dtype: float64"
      ]
     },
     "execution_count": 4,
     "metadata": {},
     "output_type": "execute_result"
    }
   ],
   "source": [
    "main_dish['calories']"
   ]
  },
  {
   "cell_type": "code",
   "execution_count": 5,
   "metadata": {},
   "outputs": [
    {
     "name": "stdout",
     "output_type": "stream",
     "text": [
      "<class 'pandas.core.frame.DataFrame'>\n",
      "RangeIndex: 202 entries, 0 to 201\n",
      "Data columns (total 11 columns):\n",
      " #   Column        Non-Null Count  Dtype  \n",
      "---  ------        --------------  -----  \n",
      " 0   RecipeID      202 non-null    int64  \n",
      " 1   Name          202 non-null    object \n",
      " 2   식품대분류         202 non-null    object \n",
      " 3   식품상세분류        202 non-null    object \n",
      " 4   1회제공량(g)      202 non-null    int64  \n",
      " 5   calories      202 non-null    float64\n",
      " 6   carbohydrate  202 non-null    float64\n",
      " 7   protein       202 non-null    float64\n",
      " 8   fat           202 non-null    float64\n",
      " 9   sugar         202 non-null    float64\n",
      " 10  sodium        202 non-null    float64\n",
      "dtypes: float64(6), int64(2), object(3)\n",
      "memory usage: 17.5+ KB\n"
     ]
    }
   ],
   "source": [
    "main_dish.info()\n",
    "# side_dish.info()\n",
    "# kimchi.info()\n",
    "# rice.info()\n",
    "# soup.info()"
   ]
  },
  {
   "cell_type": "code",
   "execution_count": 6,
   "metadata": {},
   "outputs": [
    {
     "data": {
      "image/png": "[encoded data removed]",
      "text/plain": [
       "<Figure size 1000x800 with 1 Axes>"
      ]
     },
     "metadata": {},
     "output_type": "display_data"
    }
   ],
   "source": [
    "fig, ax = plt.subplots(figsize=(10, 8))\n",
    "plt.title('Frequency Histogram')\n",
    "plt.ylabel('Frequency')\n",
    "plt.xlabel('Bins Center')\n",
    "ax.hist(main_dish.calories.to_numpy(),bins=[0,100,200,300,400,500,600,700,800,900,1000,1000,2000,3000,5000],linewidth=0.5, edgecolor=\"white\")\n",
    "plt.show()"
   ]
  },
  {
   "cell_type": "code",
   "execution_count": 7,
   "metadata": {},
   "outputs": [
    {
     "data": {
      "image/png": "[encoded data removed]",
      "text/plain": [
       "<Figure size 640x480 with 1 Axes>"
      ]
     },
     "metadata": {},
     "output_type": "display_data"
    }
   ],
   "source": [
    "import pylab \n",
    "import scipy.stats as stats\n",
    "stats.probplot(main_dish.calories.to_numpy(), dist=\"norm\", plot=pylab)\n",
    "pylab.show()"
   ]
  },
  {
   "cell_type": "code",
   "execution_count": 8,
   "metadata": {},
   "outputs": [],
   "source": [
    "main_dish_dataset=main_dish.copy()\n",
    "side_dish_dataset=side_dish.copy()\n",
    "kimchi_dataset=kimchi.copy()\n",
    "rice_dataset=rice.copy()\n",
    "soup_dataset=soup.copy()\n",
    "columns=['RecipeID','Name','calories','carbohydrate','protein','fat','sugar','sodium']\n",
    "main_dish_dataset=main_dish_dataset[columns]\n",
    "side_dish_dataset=side_dish_dataset[columns]\n",
    "kimchi_dataset=kimchi_dataset[columns]\n",
    "rice_dataset=rice_dataset[columns]\n",
    "soup_dataset=soup_dataset[columns]"
   ]
  },
  {
   "cell_type": "code",
   "execution_count": 9,
   "metadata": {},
   "outputs": [
    {
     "name": "stdout",
     "output_type": "stream",
     "text": [
      "[[65, 134, 20, 11, 34], [132, 34, 31, 16, 47], [104, 73, 51, 12, 186], [175, 115, 26, 6, 40], [137, 46, 31, 22, 112], [82, 78, 36, 25, 157], [40, 144, 52, 21, 152], [179, 59, 25, 22, 67], [44, 51, 49, 24, 153], [200, 100, 47, 18, 177], [142, 43, 29, 24, 114], [182, 125, 46, 16, 17], [31, 130, 35, 1, 46], [129, 74, 12, 9, 96], [15, 6, 13, 20, 163], [166, 22, 30, 8, 169], [1, 107, 3, 9, 157], [154, 67, 17, 16, 174], [169, 107, 24, 22, 183], [83, 39, 46, 12, 177], [185, 12, 19, 7, 70], [142, 81, 38, 6, 169], [182, 65, 23, 19, 60], [28, 86, 4, 24, 54], [86, 89, 12, 22, 17], [185, 47, 49, 23, 139], [60, 89, 8, 6, 112], [172, 2, 44, 2, 150], [165, 15, 32, 5, 156], [50, 129, 2, 13, 55], [116, 150, 2, 3, 104], [91, 137, 51, 26, 28], [146, 135, 39, 7, 114], [84, 43, 49, 20, 52], [106, 131, 3, 20, 32], [120, 18, 33, 23, 169], [173, 111, 54, 5, 42], [149, 41, 55, 23, 128], [190, 123, 6, 20, 172], [138, 7, 18, 21, 41], [168, 59, 12, 22, 112], [34, 107, 14, 10, 99], [31, 141, 15, 18, 164], [133, 101, 4, 12, 187], [190, 115, 42, 10, 85], [184, 93, 15, 3, 4], [33, 34, 28, 6, 105], [185, 112, 18, 25, 80], [73, 86, 35, 9, 120], [85, 15, 49, 22, 142], [1, 97, 44, 5, 186], [148, 46, 4, 15, 67], [52, 42, 50, 21, 77], [10, 51, 10, 1, 157], [129, 30, 12, 22, 119], [103, 52, 21, 19, 68], [174, 89, 29, 4, 52], [158, 3, 38, 14, 4], [177, 138, 53, 11, 157], [89, 139, 22, 23, 79], [2, 37, 6, 1, 44], [23, 16, 33, 5, 70], [128, 66, 8, 10, 110], [142, 71, 20, 2, 34], [90, 150, 43, 21, 62], [129, 35, 1, 19, 82], [84, 1, 11, 15, 80], [166, 88, 44, 1, 182], [44, 10, 18, 14, 37], [118, 109, 26, 19, 64], [116, 60, 24, 11, 117], [16, 76, 14, 12, 146], [157, 18, 1, 14, 170], [35, 56, 50, 4, 126], [180, 35, 13, 26, 163], [157, 100, 2, 6, 91], [159, 51, 43, 21, 4], [108, 6, 20, 15, 158], [142, 125, 7, 13, 105], [15, 63, 22, 6, 168], [113, 85, 30, 26, 179], [158, 131, 29, 2, 160], [146, 136, 11, 18, 37], [123, 93, 18, 10, 128], [155, 65, 52, 25, 68], [103, 132, 9, 17, 4], [34, 106, 32, 25, 145], [171, 25, 4, 22, 57], [156, 18, 30, 15, 30], [102, 7, 16, 1, 160], [53, 16, 18, 5, 134], [41, 84, 31, 14, 79], [66, 20, 19, 5, 100], [52, 80, 12, 8, 15], [15, 74, 38, 10, 110], [106, 102, 28, 25, 98], [91, 5, 26, 1, 51], [98, 3, 41, 4, 161], [146, 95, 26, 26, 15], [167, 59, 1, 5, 97]]\n"
     ]
    }
   ],
   "source": [
    "random_meal = []\n",
    "for i in range(0, 100):\n",
    "    list = []\n",
    "    main_random_num = random.randint(1, len(main_dish_dataset.index))\n",
    "    side_random_num = random.randint(1, len(side_dish_dataset.index))\n",
    "    rice_random_num = random.randint(1, len(rice_dataset.index))\n",
    "    kimchi_random_num = random.randint(1, len(kimchi_dataset.index))\n",
    "    soup_random_num = random.randint(1, len(soup_dataset.index))\n",
    "    list = [main_random_num, side_random_num, rice_random_num, kimchi_random_num, soup_random_num]\n",
    "    random_meal.append(list)\n",
    "print(random_meal)\n",
    "\n"
   ]
  },
  {
   "cell_type": "code",
   "execution_count": 10,
   "metadata": {},
   "outputs": [
    {
     "name": "stdout",
     "output_type": "stream",
     "text": [
      "97\n",
      "RecipeID            97\n",
      "Name             일본된장국\n",
      "calories          20.6\n",
      "carbohydrate      0.45\n",
      "protein           1.42\n",
      "fat               1.46\n",
      "sugar             0.51\n",
      "sodium          487.54\n",
      "Name: 96, dtype: object\n",
      "[139.78, 411.66999999999996, 996.38, 1012.9399999999999, 1432.73, 173.0, 207.25, 844.79, 871.3299999999999, 1060.1, 189.43, 263.53, 549.53, 576.74, 690.74, 294.79, 502.89, 1096.4299999999998, 1127.58, 1213.9499999999998, 132.0, 423.79, 1061.33, 1157.1899999999998, 1398.3799999999999, 58.42, 137.97, 781.13, 794.59, 841.44, 94.34, 305.34000000000003, 857.07, 870.1800000000001, 923.6800000000001, 96.52, 220.16, 778.26, 874.12, 935.23, 256.77, 309.09, 827.49, 868.16, 924.48, 100.0, 330.28, 743.25, 766.14, 1027.1399999999999, 135.0, 227.3, 867.78, 908.4499999999999, 1061.87, 318.37, 721.77, 1151.47, 1178.01, 1332.3899999999999, 498.92, 736.26, 1158.3899999999999, 1213.9199999999998, 1598.2999999999997, 144.0, 161.95, 878.49, 905.7, 1036.03, 90.79, 306.79, 985.8900000000001, 997.8500000000001, 1063.8500000000001, 60.65, 311.17, 1039.35, 1059.1299999999999, 1124.1299999999999, 466.86, 721.5, 1268.71, 1295.92, 1342.77, 128.0, 164.5, 731.5, 758.04, 845.04, 56.79, 311.43, 822.01, 917.87, 991.87, 174.33, 215.85000000000002, 645.55, 672.76, 933.76, 90.66, 188.16, 518.77, 528.59, 624.75, 135.0, 200.04000000000002, 684.63, 715.78, 780.78, 318.37, 359.08, 884.3199999999999, 897.64, 950.01, 936.89, 995.37, 1637.53, 1678.2, 1801.29, 138.0, 194.84, 911.38, 1007.24, 1161.62, 90.66, 134.85, 653.25, 684.91, 1413.0, 636.0, 692.84, 1204.64, 1235.7900000000002, 1476.9800000000002, 243.51, 352.3, 924.9200000000001, 942.6, 1057.64, 181.86, 268.1, 903.85, 920.25, 934.59, 108.0, 431.34, 431.34, 454.66999999999996, 493.51, 196.98, 448.98, 448.98, 465.51, 488.61, 145.44, 422.76, 708.76, 719.62, 1119.12, 169.0, 613.86, 890.1800000000001, 900.0000000000001, 1053.42, 206.95, 299.25, 817.65, 829.61, 912.08, 114.05, 296.95, 844.1600000000001, 856.1200000000001, 951.1200000000001, 25.34, 108.92, 565.91, 597.5699999999999, 662.5699999999999, 138.11, 332.11, 728.4200000000001, 744.82, 830.69, 168.0, 240.9, 589.6, 621.26, 725.9, 65.31, 342.67, 1028.78, 1040.74, 1149.74, 166.0, 766.01, 1131.01, 1144.12, 1390.1899999999998, 100.82, 224.45999999999998, 941.0, 1036.86, 1278.05, 181.05, 435.69, 1207.62, 1218.28, 1281.0, 498.92, 659.52, 1364.74, 1387.63, 1544.63, 174.0, 448.69, 1090.85, 1118.06, 1234.06, 65.31, 273.40999999999997, 1098.56, 1109.22, 1211.6100000000001, 331.41, 397.56000000000006, 1102.7800000000002, 1119.3100000000002, 1208.3100000000002, 168.18, 202.43, 524.06, 555.2099999999999, 642.2599999999999, 90.66, 383.46000000000004, 748.46, 761.9200000000001, 880.2900000000001, 372.98, 431.46000000000004, 853.59, 880.8000000000001, 968.0200000000001, 138.41, 224.64999999999998, 743.05, 838.91, 907.03, 466.86, 586.96, 1159.58, 1175.98, 1289.98, 195.0, 486.79, 1128.95, 1139.66, 1200.77, 471.0, 498.32, 890.49, 903.6, 966.82, 542.42, 594.74, 1336.4, 1391.93, 1438.78, 144.0, 359.62, 1076.1599999999999, 1172.0199999999998, 1306.1999999999998, 59.52, 313.83, 645.74, 659.0600000000001, 705.4200000000001, 379.87, 436.71000000000004, 1077.19, 1112.46, 1194.93, 307.0, 391.0, 875.5899999999999, 926.05, 1015.05, 72.66, 188.81, 590.74, 607.3, 654.15, 61.43, 183.77, 734.41, 766.0699999999999, 939.91, 376.42, 400.59000000000003, 1086.7, 1142.23, 1549.05, 103.92, 157.77, 614.76, 631.16, 727.3199999999999, 144.0, 179.96, 691.76, 702.42, 1078.11, 135.0, 177.18, 761.8900000000001, 779.57, 1199.3600000000001, 46.14, 298.14, 1247.9, 1261.01, 1591.4099999999999, 144.0, 204.49, 204.49, 217.81, 269.84000000000003, 206.95, 297.95, 1075.39, 1086.1000000000001, 1204.4700000000003, 60.65, 94.93, 667.55, 723.0799999999999, 901.0799999999999, 256.77, 312.69, 677.69, 728.1500000000001, 990.1700000000001, 401.83, 642.5799999999999, 1236.12, 1249.4399999999998, 1447.61, 196.98, 268.03999999999996, 778.6199999999999, 795.1799999999998, 917.8799999999999, 400.08, 441.71999999999997, 1213.6499999999999, 1240.86, 1387.1299999999999, 180.0, 263.58, 263.58, 314.03999999999996, 408.03999999999996, 582.68, 639.0899999999999, 1031.26, 1066.53, 1228.87, 194.24, 254.73000000000002, 933.83, 944.69, 1010.69, 180.0, 410.28, 410.28, 441.42999999999995, 477.65999999999997, 139.0, 191.32, 1141.08, 1154.1899999999998, 1243.1899999999998, 170.46, 386.46000000000004, 971.1700000000001, 981.8800000000001, 1071.24, 135.0, 538.4, 1120.21, 1143.54, 1230.59, 90.79, 291.29, 841.9300000000001, 873.08, 918.08, 121.88, 171.07, 899.25, 910.11, 1060.1100000000001, 307.0, 489.9, 1130.38, 1148.0600000000002, 1241.39, 169.0, 425.14, 1202.58, 1225.47, 1487.49, 49.0, 115.15, 480.15, 490.81, 595.45, 236.0, 276.71, 828.44, 841.9000000000001, 888.2600000000001, 59.52, 404.78999999999996, 793.6099999999999, 825.9899999999999, 914.9899999999999, 181.05, 449.1, 1084.85, 1098.31, 1286.6399999999999, 141.01, 218.57999999999998, 860.74, 956.6, 1047.38, 135.0, 218.57999999999998, 946.76, 957.47, 1486.47, 255.56, 855.5699999999999, 1538.59, 1594.12, 1687.4499999999998, 582.0, 635.85, 1000.85, 1017.25, 1086.9, 181.76, 242.51999999999998, 880.06, 930.52, 1104.36, 60.83, 128.64999999999998, 459.26, 475.65999999999997, 500.32, 471.0, 537.3, 1253.84, 1273.62, 1372.62, 90.79, 108.74000000000001, 593.3299999999999, 603.9899999999999, 979.6799999999998, 114.05, 309.05, 630.6800000000001, 644.1400000000001, 726.0500000000001, 145.44, 281.44, 874.98, 930.51, 1028.7, 44.67, 128.67000000000002, 421.27000000000004, 456.54, 534.54, 169.0, 244.35, 837.89, 848.75, 947.75, 384.0, 507.64, 507.64, 524.04, 544.64]\n"
     ]
    }
   ],
   "source": [
    "random_meal_cal = [];random_meal_car = []\n",
    "random_meal_pro= [];random_meal_fat = []\n",
    "random_meal_sug = [];random_meal_sod = []\n",
    "data_set_list = [main_dish_dataset, side_dish_dataset, rice_dataset, kimchi_dataset, soup_dataset]\n",
    "for i in range(len(random_meal)):\n",
    "        meal_cal, meal_car, meal_pro, meal_fat, meal_sug, meal_sod = 0, 0, 0, 0, 0, 0\n",
    "        for j in range(5):\n",
    "                recipe_id = random_meal[i][j]\n",
    "                row = data_set_list[j][data_set_list[j]['RecipeID'] == recipe_id]\n",
    "                if not row.empty:\n",
    "                        row = row.iloc[0]\n",
    "                        cal = row['calories'];car = row['carbohydrate']\n",
    "                        pro = row['protein'];fat = row['fat']\n",
    "                        sug = row['sugar'];sod = row['sodium']   \n",
    "\n",
    "                        meal_cal += cal;meal_car += car\n",
    "                        meal_pro += pro;meal_fat += fat\n",
    "                        meal_sug += sug;meal_sod += sod\n",
    "\n",
    "                random_meal_cal.append(meal_cal);random_meal_car.append(meal_car)\n",
    "                random_meal_pro.append(meal_pro);random_meal_fat.append(meal_fat)\n",
    "                random_meal_sug.append(meal_sug);random_meal_sod.append(meal_sod)\n",
    "\n",
    "print(recipe_id)\n",
    "print(row)\n",
    "print(random_meal_cal)\n"
   ]
  },
  {
   "cell_type": "code",
   "execution_count": 11,
   "metadata": {},
   "outputs": [
    {
     "name": "stdout",
     "output_type": "stream",
     "text": [
      "[[65, 134, 20, 11, 34], [132, 34, 31, 16, 47], [104, 73, 51, 12, 186], [175, 115, 26, 6, 40], [137, 46, 31, 22, 112], [82, 78, 36, 25, 157], [40, 144, 52, 21, 152], [179, 59, 25, 22, 67], [44, 51, 49, 24, 153], [200, 100, 47, 18, 177], [142, 43, 29, 24, 114], [182, 125, 46, 16, 17], [31, 130, 35, 1, 46], [129, 74, 12, 9, 96], [15, 6, 13, 20, 163], [166, 22, 30, 8, 169], [1, 107, 3, 9, 157], [154, 67, 17, 16, 174], [169, 107, 24, 22, 183], [83, 39, 46, 12, 177], [185, 12, 19, 7, 70], [142, 81, 38, 6, 169], [182, 65, 23, 19, 60], [28, 86, 4, 24, 54], [86, 89, 12, 22, 17], [185, 47, 49, 23, 139], [60, 89, 8, 6, 112], [172, 2, 44, 2, 150], [165, 15, 32, 5, 156], [50, 129, 2, 13, 55], [116, 150, 2, 3, 104], [91, 137, 51, 26, 28], [146, 135, 39, 7, 114], [84, 43, 49, 20, 52], [106, 131, 3, 20, 32], [120, 18, 33, 23, 169], [173, 111, 54, 5, 42], [149, 41, 55, 23, 128], [190, 123, 6, 20, 172], [138, 7, 18, 21, 41], [168, 59, 12, 22, 112], [34, 107, 14, 10, 99], [31, 141, 15, 18, 164], [133, 101, 4, 12, 187], [190, 115, 42, 10, 85], [184, 93, 15, 3, 4], [33, 34, 28, 6, 105], [185, 112, 18, 25, 80], [73, 86, 35, 9, 120], [85, 15, 49, 22, 142], [1, 97, 44, 5, 186], [148, 46, 4, 15, 67], [52, 42, 50, 21, 77], [10, 51, 10, 1, 157], [129, 30, 12, 22, 119], [103, 52, 21, 19, 68], [174, 89, 29, 4, 52], [158, 3, 38, 14, 4], [177, 138, 53, 11, 157], [89, 139, 22, 23, 79], [2, 37, 6, 1, 44], [23, 16, 33, 5, 70], [128, 66, 8, 10, 110], [142, 71, 20, 2, 34], [90, 150, 43, 21, 62], [129, 35, 1, 19, 82], [84, 1, 11, 15, 80], [166, 88, 44, 1, 182], [44, 10, 18, 14, 37], [118, 109, 26, 19, 64], [116, 60, 24, 11, 117], [16, 76, 14, 12, 146], [157, 18, 1, 14, 170], [35, 56, 50, 4, 126], [180, 35, 13, 26, 163], [157, 100, 2, 6, 91], [159, 51, 43, 21, 4], [108, 6, 20, 15, 158], [142, 125, 7, 13, 105], [15, 63, 22, 6, 168], [113, 85, 30, 26, 179], [158, 131, 29, 2, 160], [146, 136, 11, 18, 37], [123, 93, 18, 10, 128], [155, 65, 52, 25, 68], [103, 132, 9, 17, 4], [34, 106, 32, 25, 145], [171, 25, 4, 22, 57], [156, 18, 30, 15, 30], [102, 7, 16, 1, 160], [53, 16, 18, 5, 134], [41, 84, 31, 14, 79], [66, 20, 19, 5, 100], [52, 80, 12, 8, 15], [15, 74, 38, 10, 110], [106, 102, 28, 25, 98], [91, 5, 26, 1, 51], [98, 3, 41, 4, 161], [146, 95, 26, 26, 15], [167, 59, 1, 5, 97]]\n"
     ]
    }
   ],
   "source": [
    "print(random_meal)"
   ]
  },
  {
   "cell_type": "code",
   "execution_count": 12,
   "metadata": {},
   "outputs": [],
   "source": [
    "max_daily_Calories=2700\n",
    "max_daily_Carbohydrate=325\n",
    "max_daily_Protein=200\n",
    "max_daily_fat=100\n",
    "max_daily_Sugar=40\n",
    "max_daily_Sodium=2300\n",
    "max_list=[max_daily_Calories, max_daily_Carbohydrate, max_daily_Protein, max_daily_fat, max_daily_Sugar, max_daily_Sodium]\n",
    "\n",
    "max_one_meal_Calories=1500\n",
    "max_one_meal_Carbohydrate=200\n",
    "max_one_meal_Protein=150\n",
    "max_one_meal_fat=60\n",
    "max_one_meal_Sugar=30\n",
    "max_one_meal_Sodium=1500\n",
    "max_one_meal_list=[max_one_meal_Calories, max_one_meal_Carbohydrate, max_one_meal_Protein, max_one_meal_fat, max_one_meal_Sugar, max_one_meal_Sodium]"
   ]
  },
  {
   "cell_type": "code",
   "execution_count": 13,
   "metadata": {},
   "outputs": [
    {
     "name": "stdout",
     "output_type": "stream",
     "text": [
      "[[65, 134, 20, 11, 34], [132, 34, 31, 16, 47], 0, 0, 0, [82, 78, 36, 25, 157], [40, 144, 52, 21, 152], 0, 0, 0, [142, 43, 29, 24, 114], [182, 125, 46, 16, 17], [31, 130, 35, 1, 46], [129, 74, 12, 9, 96], 0, [166, 22, 30, 8, 169], [1, 107, 3, 9, 157], 0, 0, 0, [185, 12, 19, 7, 70], 0, 0, 0, 0, [185, 47, 49, 23, 139], [60, 89, 8, 6, 112], [172, 2, 44, 2, 150], [165, 15, 32, 5, 156], 0, [116, 150, 2, 3, 104], [91, 137, 51, 26, 28], [146, 135, 39, 7, 114], 0, 0, [120, 18, 33, 23, 169], [173, 111, 54, 5, 42], 0, 0, 0, [168, 59, 12, 22, 112], 0, 0, 0, 0, [184, 93, 15, 3, 4], [33, 34, 28, 6, 105], 0, 0, 0, [1, 97, 44, 5, 186], [148, 46, 4, 15, 67], 0, 0, 0, 0, 0, 0, 0, 0, [2, 37, 6, 1, 44], [23, 16, 33, 5, 70], 0, 0, 0, [129, 35, 1, 19, 82], [84, 1, 11, 15, 80], 0, 0, 0, [116, 60, 24, 11, 117], [16, 76, 14, 12, 146], 0, 0, 0, [157, 100, 2, 6, 91], [159, 51, 43, 21, 4], 0, 0, 0, [113, 85, 30, 26, 179], 0, 0, 0, 0, [103, 132, 9, 17, 4], [34, 106, 32, 25, 145], 0, 0, 0, [53, 16, 18, 5, 134], [41, 84, 31, 14, 79], [66, 20, 19, 5, 100], [52, 80, 12, 8, 15], 0, [106, 102, 28, 25, 98], [91, 5, 26, 1, 51], [98, 3, 41, 4, 161], 0, 0]\n",
      "[[65, 134, 20, 11, 34], [132, 34, 31, 16, 47], [82, 78, 36, 25, 157], [40, 144, 52, 21, 152], [142, 43, 29, 24, 114], [182, 125, 46, 16, 17], [31, 130, 35, 1, 46], [129, 74, 12, 9, 96], [166, 22, 30, 8, 169], [1, 107, 3, 9, 157], [185, 12, 19, 7, 70], [185, 47, 49, 23, 139], [60, 89, 8, 6, 112], [172, 2, 44, 2, 150], [165, 15, 32, 5, 156], [116, 150, 2, 3, 104], [91, 137, 51, 26, 28], [146, 135, 39, 7, 114], [120, 18, 33, 23, 169], [173, 111, 54, 5, 42], [168, 59, 12, 22, 112], [184, 93, 15, 3, 4], [33, 34, 28, 6, 105], [1, 97, 44, 5, 186], [148, 46, 4, 15, 67], [2, 37, 6, 1, 44], [23, 16, 33, 5, 70], [129, 35, 1, 19, 82], [84, 1, 11, 15, 80], [116, 60, 24, 11, 117], [16, 76, 14, 12, 146], [157, 100, 2, 6, 91], [159, 51, 43, 21, 4], [113, 85, 30, 26, 179], [103, 132, 9, 17, 4], [34, 106, 32, 25, 145], [53, 16, 18, 5, 134], [41, 84, 31, 14, 79], [66, 20, 19, 5, 100], [52, 80, 12, 8, 15], [106, 102, 28, 25, 98], [91, 5, 26, 1, 51], [98, 3, 41, 4, 161]]\n",
      "43\n"
     ]
    }
   ],
   "source": [
    "filtered_random_meal = random_meal.copy()\n",
    "random_meal_nut = [random_meal_cal, random_meal_car, random_meal_pro, random_meal_fat, random_meal_sug, random_meal_sod]\n",
    "for i in range(100):\n",
    "    for j in range(6):\n",
    "        if random_meal_nut[j][i] > max_one_meal_list[j]:\n",
    "            filtered_random_meal[i] = 0\n",
    "print(filtered_random_meal)\n",
    "filtered_random_meal = [i for i in filtered_random_meal if i != 0]\n",
    "print(filtered_random_meal)\n",
    "print(len(filtered_random_meal)) # 한끼 식사 칼로리 총합"
   ]
  },
  {
   "cell_type": "code",
   "execution_count": 15,
   "metadata": {},
   "outputs": [
    {
     "name": "stdout",
     "output_type": "stream",
     "text": [
      "[1432.73, 1060.1, 690.74, 1213.9499999999998, 1398.3799999999999, 841.44, 923.6800000000001, 935.23, 924.48, 1027.1399999999999, 1061.87, 1332.3899999999999, 1598.2999999999997, 1036.03, 1063.8500000000001, 1124.1299999999999, 1342.77, 845.04, 991.87, 933.76, 624.75, 780.78, 950.01, 1801.29, 1161.62, 1413.0, 1476.9800000000002, 1057.64, 934.59, 493.51, 488.61, 1119.12, 1053.42, 912.08, 951.1200000000001, 662.5699999999999, 830.69, 725.9, 1149.74, 1390.1899999999998, 1278.05, 1281.0, 1544.63]\n",
      "43\n",
      "43\n"
     ]
    }
   ],
   "source": [
    "filtered_meal_cal = [];filtered_meal_car = []\n",
    "filtered_meal_pro= [];filtered_meal_fat = []\n",
    "filtered_meal_sug = [];filtered_meal_sod = []\n",
    "for i in range(len(filtered_random_meal)):\n",
    "        meal_cal, meal_car, meal_pro, meal_fat, meal_sug, meal_sod = 0, 0, 0, 0, 0, 0\n",
    "        for j in range(5):\n",
    "                recipe_id = random_meal[i][j]\n",
    "                row = data_set_list[j][data_set_list[j]['RecipeID'] == recipe_id]\n",
    "                if not row.empty:\n",
    "                        row = row.iloc[0]\n",
    "                        cal = row['calories'];car = row['carbohydrate']\n",
    "                        pro = row['protein'];fat = row['fat']\n",
    "                        sug = row['sugar'];sod = row['sodium']   \n",
    "\n",
    "                        meal_cal += cal;meal_car += car\n",
    "                        meal_pro += pro;meal_fat += fat\n",
    "                        meal_sug += sug;meal_sod += sod\n",
    "\n",
    "        filtered_meal_cal.append(meal_cal);filtered_meal_car.append(meal_car)\n",
    "        filtered_meal_pro.append(meal_pro);filtered_meal_fat.append(meal_fat)\n",
    "        filtered_meal_sug.append(meal_sug);filtered_meal_sod.append(meal_sod)\n",
    "print(filtered_meal_cal)\n",
    "print(len(filtered_meal_cal))\n",
    "print(len(filtered_meal_sod))"
   ]
  },
  {
   "cell_type": "code",
   "execution_count": 14,
   "metadata": {},
   "outputs": [
    {
     "name": "stdout",
     "output_type": "stream",
     "text": [
      "[1432.73, 1060.1, 690.74, 1213.9499999999998, 1398.3799999999999, 841.44, 923.6800000000001, 935.23, 924.48, 1027.1399999999999, 1061.87, 1332.3899999999999, 1598.2999999999997, 1036.03, 1063.8500000000001, 1124.1299999999999, 1342.77, 845.04, 991.87, 933.76, 624.75, 780.78, 950.01, 1801.29, 1161.62, 1413.0, 1476.9800000000002, 1057.64, 934.59, 493.51, 488.61, 1119.12, 1053.42, 912.08, 951.1200000000001, 662.5699999999999, 830.69, 725.9, 1149.74, 1390.1899999999998, 1278.05, 1281.0, 1544.63]\n",
      "43\n",
      "43\n"
     ]
    }
   ],
   "source": []
  },
  {
   "cell_type": "code",
   "execution_count": null,
   "metadata": {},
   "outputs": [],
   "source": []
  }
 ],
 "metadata": {
  "kernelspec": {
   "display_name": "Python 3",
   "language": "python",
   "name": "python3"
  },
  "language_info": {
   "codemirror_mode": {
    "name": "ipython",
    "version": 3
   },
   "file_extension": ".py",
   "mimetype": "text/x-python",
   "name": "python",
   "nbconvert_exporter": "python",
   "pygments_lexer": "ipython3",
   "version": "3.11.6"
  }
 },
 "nbformat": 4,
 "nbformat_minor": 2
}
