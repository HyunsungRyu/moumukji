{
 "cells": [
  {
   "cell_type": "code",
   "execution_count": 1,
   "metadata": {},
   "outputs": [],
   "source": [
    "import pandas as pd\n",
    "import numpy as np\n",
    "import tensorflow as tf\n",
    "import matplotlib.pyplot as plt\n",
    "import random\n",
    "from sklearn.preprocessing import StandardScaler\n",
    "from sklearn.neighbors import NearestNeighbors\n",
    "from sklearn.pipeline import Pipeline\n",
    "from sklearn.preprocessing import FunctionTransformer"
   ]
  },
  {
   "cell_type": "code",
   "execution_count": 2,
   "metadata": {},
   "outputs": [],
   "source": [
    "main_dish = pd.read_csv(\"main_dish.csv\")\n",
    "side_dish = pd.read_csv(\"side_dish.csv\")\n",
    "kimchi = pd.read_csv(\"removed_kimchi.csv\")\n",
    "rice = pd.read_csv(\"removed_rice.csv\")\n",
    "soup = pd.read_csv(\"removed_soup.csv\")"
   ]
  },
  {
   "cell_type": "code",
   "execution_count": 7,
   "metadata": {},
   "outputs": [],
   "source": [
    "kimchi = kimchi.drop(kimchi.columns[0], axis = 1)\n"
   ]
  },
  {
   "cell_type": "code",
   "execution_count": 164,
   "metadata": {},
   "outputs": [
    {
     "name": "stdout",
     "output_type": "stream",
     "text": [
      "<class 'pandas.core.frame.DataFrame'>\n",
      "RangeIndex: 202 entries, 0 to 201\n",
      "Data columns (total 11 columns):\n",
      " #   Column        Non-Null Count  Dtype  \n",
      "---  ------        --------------  -----  \n",
      " 0   RecipeID      202 non-null    int64  \n",
      " 1   Name          202 non-null    object \n",
      " 2   식품대분류         202 non-null    object \n",
      " 3   식품상세분류        202 non-null    object \n",
      " 4   1회제공량(g)      202 non-null    int64  \n",
      " 5   calories      202 non-null    float64\n",
      " 6   carbohydrate  202 non-null    float64\n",
      " 7   protein       202 non-null    float64\n",
      " 8   fat           202 non-null    float64\n",
      " 9   sugar         202 non-null    float64\n",
      " 10  sodium        202 non-null    float64\n",
      "dtypes: float64(6), int64(2), object(3)\n",
      "memory usage: 17.5+ KB\n",
      "<class 'pandas.core.frame.DataFrame'>\n",
      "RangeIndex: 151 entries, 0 to 150\n",
      "Data columns (total 11 columns):\n",
      " #   Column        Non-Null Count  Dtype  \n",
      "---  ------        --------------  -----  \n",
      " 0   RecipeID      151 non-null    int64  \n",
      " 1   Name          151 non-null    object \n",
      " 2   식품대분류         151 non-null    object \n",
      " 3   식품상세분류        151 non-null    object \n",
      " 4   1회제공량(g)      151 non-null    int64  \n",
      " 5   calories      151 non-null    float64\n",
      " 6   carbohydrate  151 non-null    float64\n",
      " 7   protein       151 non-null    float64\n",
      " 8   fat           151 non-null    float64\n",
      " 9   sugar         151 non-null    float64\n",
      " 10  sodium        151 non-null    float64\n",
      "dtypes: float64(6), int64(2), object(3)\n",
      "memory usage: 13.1+ KB\n",
      "<class 'pandas.core.frame.DataFrame'>\n",
      "RangeIndex: 26 entries, 0 to 25\n",
      "Data columns (total 11 columns):\n",
      " #   Column        Non-Null Count  Dtype  \n",
      "---  ------        --------------  -----  \n",
      " 0   RecipeID      26 non-null     int64  \n",
      " 1   Name          26 non-null     object \n",
      " 2   식품대분류         26 non-null     object \n",
      " 3   식품상세분류        26 non-null     object \n",
      " 4   1회제공량(g)      26 non-null     int64  \n",
      " 5   calories      26 non-null     float64\n",
      " 6   carbohydrate  26 non-null     float64\n",
      " 7   protein       26 non-null     float64\n",
      " 8   fat           26 non-null     float64\n",
      " 9   sugar         26 non-null     float64\n",
      " 10  sodium        26 non-null     float64\n",
      "dtypes: float64(6), int64(2), object(3)\n",
      "memory usage: 2.4+ KB\n",
      "<class 'pandas.core.frame.DataFrame'>\n",
      "RangeIndex: 55 entries, 0 to 54\n",
      "Data columns (total 11 columns):\n",
      " #   Column        Non-Null Count  Dtype  \n",
      "---  ------        --------------  -----  \n",
      " 0   RecipeID      55 non-null     int64  \n",
      " 1   Name          55 non-null     object \n",
      " 2   식품대분류         55 non-null     object \n",
      " 3   식품상세분류        55 non-null     object \n",
      " 4   1회제공량(g)      55 non-null     int64  \n",
      " 5   calories      55 non-null     float64\n",
      " 6   carbohydrate  55 non-null     float64\n",
      " 7   protein       55 non-null     float64\n",
      " 8   fat           55 non-null     float64\n",
      " 9   sugar         55 non-null     float64\n",
      " 10  sodium        55 non-null     float64\n",
      "dtypes: float64(6), int64(2), object(3)\n",
      "memory usage: 4.9+ KB\n",
      "<class 'pandas.core.frame.DataFrame'>\n",
      "RangeIndex: 187 entries, 0 to 186\n",
      "Data columns (total 11 columns):\n",
      " #   Column        Non-Null Count  Dtype  \n",
      "---  ------        --------------  -----  \n",
      " 0   RecipeID      187 non-null    int64  \n",
      " 1   Name          187 non-null    object \n",
      " 2   식품대분류         187 non-null    object \n",
      " 3   식품상세분류        187 non-null    object \n",
      " 4   1회제공량(g)      187 non-null    int64  \n",
      " 5   calories      187 non-null    float64\n",
      " 6   carbohydrate  187 non-null    float64\n",
      " 7   protein       187 non-null    float64\n",
      " 8   fat           187 non-null    float64\n",
      " 9   sugar         187 non-null    float64\n",
      " 10  sodium        187 non-null    float64\n",
      "dtypes: float64(6), int64(2), object(3)\n",
      "memory usage: 16.2+ KB\n"
     ]
    }
   ],
   "source": [
    "main_dish.head()\n",
    "side_dish.head()\n",
    "kimchi.head()\n",
    "rice.head()\n",
    "soup.head()\n",
    "\n",
    "main_dish.info()\n",
    "side_dish.info()\n",
    "kimchi.info()\n",
    "rice.info()\n",
    "soup.info()"
   ]
  },
  {
   "cell_type": "code",
   "execution_count": 165,
   "metadata": {},
   "outputs": [
    {
     "data": {
      "image/png": "[encoded data removed]",
      "text/plain": [
       "<Figure size 640x480 with 1 Axes>"
      ]
     },
     "metadata": {},
     "output_type": "display_data"
    }
   ],
   "source": [
    "import pylab \n",
    "import scipy.stats as stats\n",
    "stats.probplot(main_dish.calories.to_numpy(), dist=\"norm\", plot=pylab)\n",
    "pylab.show()"
   ]
  },
  {
   "cell_type": "code",
   "execution_count": 166,
   "metadata": {},
   "outputs": [],
   "source": [
    "columns = [\"RecipeID\",\"Name\",\"calories\",\"carbohydrate\",\"protein\",\"fat\",\"sugar\",\"sodium\",]\n",
    "main_dish_dataset = main_dish[columns]\n",
    "side_dish_dataset = side_dish[columns]\n",
    "kimchi_dataset = kimchi[columns]\n",
    "rice_dataset = rice[columns]\n",
    "soup_dataset = soup[columns]"
   ]
  },
  {
   "cell_type": "code",
   "execution_count": 167,
   "metadata": {},
   "outputs": [],
   "source": [
    "random_meal = []\n",
    "for i in range(100):\n",
    "    meal_list = [\n",
    "        random.randint(1, len(main_dish_dataset)),\n",
    "        random.randint(1, len(side_dish_dataset)),\n",
    "        random.randint(1, len(rice_dataset)),\n",
    "        random.randint(1, len(kimchi_dataset)),\n",
    "        random.randint(1, len(soup_dataset)),\n",
    "    ]\n",
    "    random_meal.append(meal_list)"
   ]
  },
  {
   "cell_type": "code",
   "execution_count": 168,
   "metadata": {},
   "outputs": [
    {
     "name": "stdout",
     "output_type": "stream",
     "text": [
      "64\n",
      "RecipeID            64\n",
      "Name              도가니탕\n",
      "calories        198.17\n",
      "carbohydrate       4.1\n",
      "protein          41.76\n",
      "fat               1.63\n",
      "sugar              0.0\n",
      "sodium          751.98\n",
      "Name: 63, dtype: object\n",
      "[1000.5, 767.3900000000001, 1490.63, 1840.6, 1255.54, 1256.25, 1275.1399999999999, 556.69, 731.05, 1039.13, 1479.11, 1823.4599999999996, 1082.07, 897.27, 1266.36, 1842.0500000000002, 1204.93, 665.28, 945.32, 962.4, 1034.0600000000002, 1021.86, 1372.76, 1451.65, 1465.17, 1000.38, 984.8000000000001, 1552.23, 842.05, 1258.56, 1748.87, 1020.29, 521.89, 1210.1399999999999, 969.52, 1379.82, 1316.8899999999999, 1717.67, 1347.78, 1104.79, 1184.8700000000001, 1421.65, 1157.1399999999999, 867.42, 1020.8399999999999, 367.1600000000001, 1315.0700000000002, 1606.26, 962.3799999999999, 1333.29, 1067.53, 1013.33, 1020.6199999999999, 1380.15, 1544.22, 3435.1499999999996, 1067.31, 1155.27, 919.85, 867.2900000000001, 1141.61, 1005.5799999999999, 915.6999999999999, 1335.3400000000001, 1004.58, 843.48, 720.1800000000001, 718.78, 1678.3999999999999, 1152.61, 783.03, 1141.9800000000002, 1465.92, 809.3800000000001, 1470.99, 1125.3, 809.81, 520.99, 780.4399999999999, 831.29, 901.86, 948.8199999999999, 693.65, 1258.86, 1143.54, 857.2199999999999, 1357.5300000000002, 1689.4099999999999, 1029.98, 1097.37, 2516.76, 1220.1299999999999, 904.1500000000001, 1219.94, 1232.19, 1224.13, 1139.28, 1040.01, 1537.75, 932.0699999999999]\n",
      "100\n"
     ]
    }
   ],
   "source": [
    "random_meal_cal = [];random_meal_car = []\n",
    "random_meal_pro= [];random_meal_fat = []\n",
    "random_meal_sug = [];random_meal_sod = []\n",
    "data_set_list = [main_dish_dataset, side_dish_dataset, rice_dataset, kimchi_dataset, soup_dataset]\n",
    "for i in range(len(random_meal)):\n",
    "        meal_cal, meal_car, meal_pro, meal_fat, meal_sug, meal_sod = 0, 0, 0, 0, 0, 0\n",
    "        for j in range(5):\n",
    "                recipe_id = random_meal[i][j]\n",
    "                row = data_set_list[j][data_set_list[j]['RecipeID'] == recipe_id]\n",
    "                if not row.empty:\n",
    "                        row = row.iloc[0]\n",
    "                        cal = row['calories'];car = row['carbohydrate']\n",
    "                        pro = row['protein'];fat = row['fat']\n",
    "                        sug = row['sugar'];sod = row['sodium']   \n",
    "\n",
    "                        meal_cal += cal;meal_car += car\n",
    "                        meal_pro += pro;meal_fat += fat\n",
    "                        meal_sug += sug;meal_sod += sod\n",
    "\n",
    "        random_meal_cal.append(meal_cal);random_meal_car.append(meal_car)\n",
    "        random_meal_pro.append(meal_pro);random_meal_fat.append(meal_fat)\n",
    "        random_meal_sug.append(meal_sug);random_meal_sod.append(meal_sod)\n",
    "\n",
    "print(recipe_id)\n",
    "print(row)\n",
    "print(random_meal_cal)\n",
    "print(len(random_meal_cal))\n"
   ]
  },
  {
   "cell_type": "code",
   "execution_count": 169,
   "metadata": {},
   "outputs": [
    {
     "name": "stdout",
     "output_type": "stream",
     "text": [
      "[[119, 10, 16, 17, 187], [177, 138, 45, 23, 129], [5, 55, 18, 7, 48], [114, 110, 4, 12, 1], [129, 148, 52, 16, 167], [170, 146, 49, 7, 42], [198, 35, 46, 2, 3], [67, 83, 34, 14, 9], [92, 16, 18, 16, 8], [140, 108, 48, 19, 148], [58, 26, 53, 10, 84], [136, 96, 42, 26, 46], [91, 30, 4, 11, 83], [179, 15, 23, 22, 149], [39, 52, 4, 14, 133], [8, 151, 35, 23, 100], [52, 110, 47, 4, 168], [186, 97, 39, 25, 122], [123, 105, 24, 19, 77], [69, 53, 50, 20, 123], [175, 12, 49, 12, 70], [132, 140, 31, 12, 91], [1, 30, 7, 11, 93], [100, 21, 14, 26, 142], [89, 128, 15, 13, 115], [128, 92, 5, 3, 174], [161, 102, 53, 18, 116], [59, 52, 55, 18, 96], [149, 124, 35, 14, 81], [102, 151, 9, 3, 134], [128, 100, 22, 22, 139], [172, 150, 51, 8, 180], [152, 86, 19, 25, 156], [16, 33, 38, 13, 17], [118, 14, 51, 17, 47], [35, 70, 13, 14, 153], [136, 136, 12, 12, 19], [96, 1, 23, 5, 43], [16, 84, 33, 10, 2], [42, 4, 3, 13, 1], [20, 40, 52, 22, 26], [111, 36, 33, 15, 6], [110, 109, 46, 16, 173], [198, 142, 49, 23, 109], [133, 19, 22, 24, 75], [112, 50, 2, 23, 100], [201, 35, 5, 14, 28], [65, 27, 43, 25, 1], [112, 142, 53, 18, 89], [45, 17, 24, 21, 115], [87, 87, 35, 15, 26], [146, 115, 23, 17, 95], [167, 42, 18, 1, 47], [3, 134, 49, 16, 173], [62, 105, 7, 12, 185], [61, 26, 4, 23, 160], [16, 76, 38, 1, 140], [116, 42, 42, 9, 95], [148, 133, 48, 15, 32], [80, 84, 46, 18, 140], [155, 73, 12, 3, 137], [104, 124, 26, 2, 169], [148, 40, 26, 24, 166], [160, 16, 10, 14, 148], [23, 104, 17, 13, 85], [41, 9, 46, 21, 89], [137, 51, 55, 19, 79], [128, 1, 18, 2, 113], [95, 63, 43, 8, 182], [116, 96, 41, 21, 45], [178, 77, 52, 8, 32], [168, 22, 12, 25, 87], [7, 85, 47, 24, 139], [200, 6, 50, 9, 183], [76, 46, 15, 24, 102], [51, 131, 12, 12, 146], [126, 1, 34, 18, 24], [87, 114, 2, 20, 161], [185, 116, 45, 21, 57], [177, 134, 21, 23, 101], [70, 90, 24, 20, 172], [134, 26, 24, 23, 103], [21, 60, 18, 1, 128], [10, 62, 24, 1, 73], [160, 126, 1, 19, 22], [127, 31, 38, 11, 113], [3, 118, 3, 12, 101], [19, 7, 32, 21, 181], [20, 142, 22, 4, 113], [14, 27, 29, 17, 17], [4, 102, 43, 4, 110], [138, 96, 17, 25, 97], [69, 95, 39, 10, 1], [93, 79, 3, 25, 171], [168, 149, 17, 9, 184], [130, 151, 19, 20, 133], [47, 114, 49, 12, 186], [18, 12, 40, 8, 136], [60, 11, 36, 2, 93], [177, 18, 17, 10, 64]]\n"
     ]
    }
   ],
   "source": [
    "print(random_meal)"
   ]
  },
  {
   "cell_type": "code",
   "execution_count": 170,
   "metadata": {},
   "outputs": [],
   "source": [
    "max_daily_Calories=2700\n",
    "max_daily_Carbohydrate=325\n",
    "max_daily_Protein=200\n",
    "max_daily_fat=100\n",
    "max_daily_Sugar=40\n",
    "max_daily_Sodium=3000\n",
    "max_list=[max_daily_Calories, max_daily_Carbohydrate, max_daily_Protein, max_daily_fat, max_daily_Sugar, max_daily_Sodium]\n",
    "\n",
    "max_one_meal_Calories=1500\n",
    "max_one_meal_Carbohydrate=200\n",
    "max_one_meal_Protein=150\n",
    "max_one_meal_fat=60\n",
    "max_one_meal_Sugar=30\n",
    "max_one_meal_Sodium=2000\n",
    "max_one_meal_list=[max_one_meal_Calories, max_one_meal_Carbohydrate, max_one_meal_Protein, max_one_meal_fat, max_one_meal_Sugar, max_one_meal_Sodium]"
   ]
  },
  {
   "cell_type": "code",
   "execution_count": 171,
   "metadata": {},
   "outputs": [
    {
     "name": "stdout",
     "output_type": "stream",
     "text": [
      "[0, [177, 138, 45, 23, 129], 0, 0, 0, 0, 0, 0, 0, 0, 0, 0, 0, 0, 0, 0, 0, 0, [123, 105, 24, 19, 77], 0, 0, 0, 0, 0, 0, 0, 0, 0, 0, [102, 151, 9, 3, 134], 0, 0, [152, 86, 19, 25, 156], 0, 0, 0, 0, 0, 0, 0, 0, 0, [110, 109, 46, 16, 173], [198, 142, 49, 23, 109], 0, [112, 50, 2, 23, 100], 0, 0, 0, 0, 0, 0, 0, 0, 0, 0, 0, 0, 0, [80, 84, 46, 18, 140], 0, 0, 0, 0, 0, 0, 0, 0, 0, 0, 0, 0, 0, 0, 0, 0, 0, [87, 114, 2, 20, 161], 0, 0, 0, 0, 0, 0, 0, 0, 0, 0, 0, 0, 0, 0, 0, 0, 0, 0, 0, 0, 0, 0]\n",
      "[[177, 138, 45, 23, 129], [123, 105, 24, 19, 77], [102, 151, 9, 3, 134], [152, 86, 19, 25, 156], [110, 109, 46, 16, 173], [198, 142, 49, 23, 109], [112, 50, 2, 23, 100], [80, 84, 46, 18, 140], [87, 114, 2, 20, 161]]\n",
      "9\n"
     ]
    }
   ],
   "source": [
    "filtered_random_meal = random_meal.copy()\n",
    "random_meal_nut = [random_meal_cal, random_meal_car, random_meal_pro, random_meal_fat, random_meal_sug, random_meal_sod]\n",
    "for i in range(len(random_meal)):\n",
    "    for j in range(6): \n",
    "        if random_meal_nut[j][i] > max_one_meal_list[j]:\n",
    "            filtered_random_meal[i] = 0\n",
    "print(filtered_random_meal)\n",
    "filtered_random_meal = [i for i in filtered_random_meal if i != 0]\n",
    "print(filtered_random_meal)\n",
    "print(len(filtered_random_meal))"
   ]
  },
  {
   "cell_type": "code",
   "execution_count": 172,
   "metadata": {},
   "outputs": [
    {
     "name": "stdout",
     "output_type": "stream",
     "text": [
      "[1000.5, 767.3900000000001, 1490.63, 1840.6, 1255.54, 1256.25, 1275.1399999999999, 556.69, 731.05]\n",
      "9\n",
      "9\n"
     ]
    }
   ],
   "source": [
    "filtered_meal_cal = [];filtered_meal_car = []\n",
    "filtered_meal_pro= [];filtered_meal_fat = []\n",
    "filtered_meal_sug = [];filtered_meal_sod = []\n",
    "for i in range(len(filtered_random_meal)):\n",
    "        meal_cal, meal_car, meal_pro, meal_fat, meal_sug, meal_sod = 0, 0, 0, 0, 0, 0\n",
    "        for j in range(5):\n",
    "                recipe_id = random_meal[i][j]\n",
    "                row = data_set_list[j][data_set_list[j]['RecipeID'] == recipe_id]\n",
    "                if not row.empty:\n",
    "                        row = row.iloc[0]\n",
    "                        cal = row['calories'];car = row['carbohydrate']\n",
    "                        pro = row['protein'];fat = row['fat']\n",
    "                        sug = row['sugar'];sod = row['sodium']   \n",
    "\n",
    "                        meal_cal += cal;meal_car += car\n",
    "                        meal_pro += pro;meal_fat += fat\n",
    "                        meal_sug += sug;meal_sod += sod\n",
    "\n",
    "        filtered_meal_cal.append(meal_cal);filtered_meal_car.append(meal_car)\n",
    "        filtered_meal_pro.append(meal_pro);filtered_meal_fat.append(meal_fat)\n",
    "        filtered_meal_sug.append(meal_sug);filtered_meal_sod.append(meal_sod)\n",
    "filtered_meal_list = [filtered_meal_cal, filtered_meal_car, filtered_meal_pro, filtered_meal_fat, filtered_meal_sug, filtered_meal_sod]\n",
    "print(filtered_meal_cal)\n",
    "print(len(filtered_meal_cal))\n",
    "print(len(filtered_meal_sod))"
   ]
  },
  {
   "cell_type": "code",
   "execution_count": 173,
   "metadata": {},
   "outputs": [
    {
     "name": "stdout",
     "output_type": "stream",
     "text": [
      "                  RecipeID  calories  carbohydrate  protein    fat  sugar  \\\n",
      "0  [177, 138, 45, 23, 129]   1000.50        128.27    50.72  31.61  18.88   \n",
      "1   [123, 105, 24, 19, 77]    767.39        102.18    43.59  20.48  10.88   \n",
      "2    [102, 151, 9, 3, 134]   1490.63         49.68    90.60  67.81  18.74   \n",
      "3   [152, 86, 19, 25, 156]   1840.60        293.96    78.43  39.08  34.10   \n",
      "4  [110, 109, 46, 16, 173]   1255.54        168.11    44.58  44.98   5.66   \n",
      "5  [198, 142, 49, 23, 109]   1256.25        163.40    59.49  40.53  12.57   \n",
      "6    [112, 50, 2, 23, 100]   1275.14        202.53    63.10  23.67   7.28   \n",
      "7    [80, 84, 46, 18, 140]    556.69        103.56    15.92   8.85  12.34   \n",
      "8    [87, 114, 2, 20, 161]    731.05         32.99    44.51  11.10  15.63   \n",
      "\n",
      "    sodium  \n",
      "0  2123.23  \n",
      "1  1738.43  \n",
      "2  4276.61  \n",
      "3  7569.53  \n",
      "4  3280.53  \n",
      "5  3884.76  \n",
      "6  2429.35  \n",
      "7  2392.70  \n",
      "8  3135.10  \n"
     ]
    }
   ],
   "source": [
    "final_meal = pd.DataFrame()\n",
    "final_meal[\"RecipeID\"] = filtered_random_meal\n",
    "final_meal[\"calories\"] = filtered_meal_cal\n",
    "final_meal[\"carbohydrate\"] = filtered_meal_car\n",
    "final_meal[\"protein\"] = filtered_meal_pro\n",
    "final_meal[\"fat\"] = filtered_meal_fat\n",
    "final_meal[\"sugar\"] = filtered_meal_sug\n",
    "final_meal[\"sodium\"] = filtered_meal_sod\n",
    "\n",
    "print(final_meal)\n",
    "final_meal.to_csv(\"final_meal.csv\")\n",
    "final_meal_csv = pd.read_csv(\"final_meal.csv\")"
   ]
  },
  {
   "cell_type": "code",
   "execution_count": 174,
   "metadata": {},
   "outputs": [
    {
     "data": {
      "text/html": [
       "<div>\n",
       "<style scoped>\n",
       "    .dataframe tbody tr th:only-of-type {\n",
       "        vertical-align: middle;\n",
       "    }\n",
       "\n",
       "    .dataframe tbody tr th {\n",
       "        vertical-align: top;\n",
       "    }\n",
       "\n",
       "    .dataframe thead th {\n",
       "        text-align: right;\n",
       "    }\n",
       "</style>\n",
       "<table border=\"1\" class=\"dataframe\">\n",
       "  <thead>\n",
       "    <tr style=\"text-align: right;\">\n",
       "      <th></th>\n",
       "      <th>calories</th>\n",
       "      <th>carbohydrate</th>\n",
       "      <th>protein</th>\n",
       "      <th>fat</th>\n",
       "      <th>sugar</th>\n",
       "      <th>sodium</th>\n",
       "    </tr>\n",
       "  </thead>\n",
       "  <tbody>\n",
       "    <tr>\n",
       "      <th>calories</th>\n",
       "      <td>1.000000</td>\n",
       "      <td>0.656154</td>\n",
       "      <td>0.863540</td>\n",
       "      <td>0.750627</td>\n",
       "      <td>0.530559</td>\n",
       "      <td>0.808714</td>\n",
       "    </tr>\n",
       "    <tr>\n",
       "      <th>carbohydrate</th>\n",
       "      <td>0.656154</td>\n",
       "      <td>1.000000</td>\n",
       "      <td>0.267144</td>\n",
       "      <td>0.119415</td>\n",
       "      <td>0.358457</td>\n",
       "      <td>0.578311</td>\n",
       "    </tr>\n",
       "    <tr>\n",
       "      <th>protein</th>\n",
       "      <td>0.863540</td>\n",
       "      <td>0.267144</td>\n",
       "      <td>1.000000</td>\n",
       "      <td>0.784431</td>\n",
       "      <td>0.497852</td>\n",
       "      <td>0.622857</td>\n",
       "    </tr>\n",
       "    <tr>\n",
       "      <th>fat</th>\n",
       "      <td>0.750627</td>\n",
       "      <td>0.119415</td>\n",
       "      <td>0.784431</td>\n",
       "      <td>1.000000</td>\n",
       "      <td>0.228189</td>\n",
       "      <td>0.459756</td>\n",
       "    </tr>\n",
       "    <tr>\n",
       "      <th>sugar</th>\n",
       "      <td>0.530559</td>\n",
       "      <td>0.358457</td>\n",
       "      <td>0.497852</td>\n",
       "      <td>0.228189</td>\n",
       "      <td>1.000000</td>\n",
       "      <td>0.795838</td>\n",
       "    </tr>\n",
       "    <tr>\n",
       "      <th>sodium</th>\n",
       "      <td>0.808714</td>\n",
       "      <td>0.578311</td>\n",
       "      <td>0.622857</td>\n",
       "      <td>0.459756</td>\n",
       "      <td>0.795838</td>\n",
       "      <td>1.000000</td>\n",
       "    </tr>\n",
       "  </tbody>\n",
       "</table>\n",
       "</div>"
      ],
      "text/plain": [
       "              calories  carbohydrate   protein       fat     sugar    sodium\n",
       "calories      1.000000      0.656154  0.863540  0.750627  0.530559  0.808714\n",
       "carbohydrate  0.656154      1.000000  0.267144  0.119415  0.358457  0.578311\n",
       "protein       0.863540      0.267144  1.000000  0.784431  0.497852  0.622857\n",
       "fat           0.750627      0.119415  0.784431  1.000000  0.228189  0.459756\n",
       "sugar         0.530559      0.358457  0.497852  0.228189  1.000000  0.795838\n",
       "sodium        0.808714      0.578311  0.622857  0.459756  0.795838  1.000000"
      ]
     },
     "execution_count": 174,
     "metadata": {},
     "output_type": "execute_result"
    }
   ],
   "source": [
    "final_meal.iloc[:,1:7].corr()"
   ]
  },
  {
   "cell_type": "code",
   "execution_count": 175,
   "metadata": {},
   "outputs": [],
   "source": [
    "from sklearn.preprocessing import StandardScaler\n",
    "from sklearn.neighbors import NearestNeighbors\n",
    "from sklearn.pipeline import Pipeline\n",
    "from sklearn.preprocessing import FunctionTransformer\n",
    "\n",
    "scaler = StandardScaler()\n",
    "final_data = scaler.fit_transform(final_meal.iloc[:,1:7].to_numpy())"
   ]
  },
  {
   "cell_type": "code",
   "execution_count": 176,
   "metadata": {},
   "outputs": [
    {
     "data": {
      "text/plain": [
       "array([[-0.33874904, -0.13265319, -0.18647007, -0.02301564,  0.47209126,\n",
       "        -0.78432275],\n",
       "       [-0.94654702, -0.47778666, -0.533707  , -0.65988778, -0.53235823,\n",
       "        -1.01606297],\n",
       "       [ 0.93918851, -1.17228675,  1.75571907,  2.04839237,  0.45451339,\n",
       "         0.51251914],\n",
       "       [ 1.85168072,  2.05918908,  1.16302996,  0.40442684,  2.38305641,\n",
       "         2.49563248],\n",
       "       [ 0.32622799,  0.39437316, -0.48549317,  0.74203201, -1.18776152,\n",
       "        -0.0873556 ],\n",
       "       [ 0.32807921,  0.33206658,  0.24063622,  0.4873976 , -0.32016827,\n",
       "         0.27653316],\n",
       "       [ 0.37733194,  0.84970065,  0.41644622, -0.4773521 , -0.9843605 ,\n",
       "        -0.59996641],\n",
       "       [-1.49591441, -0.45953123, -1.88125899, -1.32537052, -0.3490462 ,\n",
       "        -0.62203835],\n",
       "       [-1.0412979 , -1.39307164, -0.48890223, -1.19662278,  0.06403365,\n",
       "        -0.17493871]])"
      ]
     },
     "execution_count": 176,
     "metadata": {},
     "output_type": "execute_result"
    }
   ],
   "source": [
    "final_data"
   ]
  },
  {
   "cell_type": "code",
   "execution_count": 177,
   "metadata": {},
   "outputs": [
    {
     "data": {
      "text/html": [
       "<style>#sk-container-id-7 {color: black;}#sk-container-id-7 pre{padding: 0;}#sk-container-id-7 div.sk-toggleable {background-color: white;}#sk-container-id-7 label.sk-toggleable__label {cursor: pointer;display: block;width: 100%;margin-bottom: 0;padding: 0.3em;box-sizing: border-box;text-align: center;}#sk-container-id-7 label.sk-toggleable__label-arrow:before {content: \"▸\";float: left;margin-right: 0.25em;color: #696969;}#sk-container-id-7 label.sk-toggleable__label-arrow:hover:before {color: black;}#sk-container-id-7 div.sk-estimator:hover label.sk-toggleable__label-arrow:before {color: black;}#sk-container-id-7 div.sk-toggleable__content {max-height: 0;max-width: 0;overflow: hidden;text-align: left;background-color: #f0f8ff;}#sk-container-id-7 div.sk-toggleable__content pre {margin: 0.2em;color: black;border-radius: 0.25em;background-color: #f0f8ff;}#sk-container-id-7 input.sk-toggleable__control:checked~div.sk-toggleable__content {max-height: 200px;max-width: 100%;overflow: auto;}#sk-container-id-7 input.sk-toggleable__control:checked~label.sk-toggleable__label-arrow:before {content: \"▾\";}#sk-container-id-7 div.sk-estimator input.sk-toggleable__control:checked~label.sk-toggleable__label {background-color: #d4ebff;}#sk-container-id-7 div.sk-label input.sk-toggleable__control:checked~label.sk-toggleable__label {background-color: #d4ebff;}#sk-container-id-7 input.sk-hidden--visually {border: 0;clip: rect(1px 1px 1px 1px);clip: rect(1px, 1px, 1px, 1px);height: 1px;margin: -1px;overflow: hidden;padding: 0;position: absolute;width: 1px;}#sk-container-id-7 div.sk-estimator {font-family: monospace;background-color: #f0f8ff;border: 1px dotted black;border-radius: 0.25em;box-sizing: border-box;margin-bottom: 0.5em;}#sk-container-id-7 div.sk-estimator:hover {background-color: #d4ebff;}#sk-container-id-7 div.sk-parallel-item::after {content: \"\";width: 100%;border-bottom: 1px solid gray;flex-grow: 1;}#sk-container-id-7 div.sk-label:hover label.sk-toggleable__label {background-color: #d4ebff;}#sk-container-id-7 div.sk-serial::before {content: \"\";position: absolute;border-left: 1px solid gray;box-sizing: border-box;top: 0;bottom: 0;left: 50%;z-index: 0;}#sk-container-id-7 div.sk-serial {display: flex;flex-direction: column;align-items: center;background-color: white;padding-right: 0.2em;padding-left: 0.2em;position: relative;}#sk-container-id-7 div.sk-item {position: relative;z-index: 1;}#sk-container-id-7 div.sk-parallel {display: flex;align-items: stretch;justify-content: center;background-color: white;position: relative;}#sk-container-id-7 div.sk-item::before, #sk-container-id-7 div.sk-parallel-item::before {content: \"\";position: absolute;border-left: 1px solid gray;box-sizing: border-box;top: 0;bottom: 0;left: 50%;z-index: -1;}#sk-container-id-7 div.sk-parallel-item {display: flex;flex-direction: column;z-index: 1;position: relative;background-color: white;}#sk-container-id-7 div.sk-parallel-item:first-child::after {align-self: flex-end;width: 50%;}#sk-container-id-7 div.sk-parallel-item:last-child::after {align-self: flex-start;width: 50%;}#sk-container-id-7 div.sk-parallel-item:only-child::after {width: 0;}#sk-container-id-7 div.sk-dashed-wrapped {border: 1px dashed gray;margin: 0 0.4em 0.5em 0.4em;box-sizing: border-box;padding-bottom: 0.4em;background-color: white;}#sk-container-id-7 div.sk-label label {font-family: monospace;font-weight: bold;display: inline-block;line-height: 1.2em;}#sk-container-id-7 div.sk-label-container {text-align: center;}#sk-container-id-7 div.sk-container {/* jupyter's `normalize.less` sets `[hidden] { display: none; }` but bootstrap.min.css set `[hidden] { display: none !important; }` so we also need the `!important` here to be able to override the default hidden behavior on the sphinx rendered scikit-learn.org. See: https://github.com/scikit-learn/scikit-learn/issues/21755 */display: inline-block !important;position: relative;}#sk-container-id-7 div.sk-text-repr-fallback {display: none;}</style><div id=\"sk-container-id-7\" class=\"sk-top-container\"><div class=\"sk-text-repr-fallback\"><pre>NearestNeighbors(algorithm=&#x27;brute&#x27;, metric=&#x27;cosine&#x27;)</pre><b>In a Jupyter environment, please rerun this cell to show the HTML representation or trust the notebook. <br />On GitHub, the HTML representation is unable to render, please try loading this page with nbviewer.org.</b></div><div class=\"sk-container\" hidden><div class=\"sk-item\"><div class=\"sk-estimator sk-toggleable\"><input class=\"sk-toggleable__control sk-hidden--visually\" id=\"sk-estimator-id-13\" type=\"checkbox\" checked><label for=\"sk-estimator-id-13\" class=\"sk-toggleable__label sk-toggleable__label-arrow\">NearestNeighbors</label><div class=\"sk-toggleable__content\"><pre>NearestNeighbors(algorithm=&#x27;brute&#x27;, metric=&#x27;cosine&#x27;)</pre></div></div></div></div></div>"
      ],
      "text/plain": [
       "NearestNeighbors(algorithm='brute', metric='cosine')"
      ]
     },
     "execution_count": 177,
     "metadata": {},
     "output_type": "execute_result"
    }
   ],
   "source": [
    "neigh = NearestNeighbors(metric=\"cosine\", algorithm=\"brute\")\n",
    "neigh.fit(final_data)"
   ]
  },
  {
   "cell_type": "code",
   "execution_count": 178,
   "metadata": {},
   "outputs": [
    {
     "data": {
      "text/html": [
       "<style>#sk-container-id-8 {color: black;}#sk-container-id-8 pre{padding: 0;}#sk-container-id-8 div.sk-toggleable {background-color: white;}#sk-container-id-8 label.sk-toggleable__label {cursor: pointer;display: block;width: 100%;margin-bottom: 0;padding: 0.3em;box-sizing: border-box;text-align: center;}#sk-container-id-8 label.sk-toggleable__label-arrow:before {content: \"▸\";float: left;margin-right: 0.25em;color: #696969;}#sk-container-id-8 label.sk-toggleable__label-arrow:hover:before {color: black;}#sk-container-id-8 div.sk-estimator:hover label.sk-toggleable__label-arrow:before {color: black;}#sk-container-id-8 div.sk-toggleable__content {max-height: 0;max-width: 0;overflow: hidden;text-align: left;background-color: #f0f8ff;}#sk-container-id-8 div.sk-toggleable__content pre {margin: 0.2em;color: black;border-radius: 0.25em;background-color: #f0f8ff;}#sk-container-id-8 input.sk-toggleable__control:checked~div.sk-toggleable__content {max-height: 200px;max-width: 100%;overflow: auto;}#sk-container-id-8 input.sk-toggleable__control:checked~label.sk-toggleable__label-arrow:before {content: \"▾\";}#sk-container-id-8 div.sk-estimator input.sk-toggleable__control:checked~label.sk-toggleable__label {background-color: #d4ebff;}#sk-container-id-8 div.sk-label input.sk-toggleable__control:checked~label.sk-toggleable__label {background-color: #d4ebff;}#sk-container-id-8 input.sk-hidden--visually {border: 0;clip: rect(1px 1px 1px 1px);clip: rect(1px, 1px, 1px, 1px);height: 1px;margin: -1px;overflow: hidden;padding: 0;position: absolute;width: 1px;}#sk-container-id-8 div.sk-estimator {font-family: monospace;background-color: #f0f8ff;border: 1px dotted black;border-radius: 0.25em;box-sizing: border-box;margin-bottom: 0.5em;}#sk-container-id-8 div.sk-estimator:hover {background-color: #d4ebff;}#sk-container-id-8 div.sk-parallel-item::after {content: \"\";width: 100%;border-bottom: 1px solid gray;flex-grow: 1;}#sk-container-id-8 div.sk-label:hover label.sk-toggleable__label {background-color: #d4ebff;}#sk-container-id-8 div.sk-serial::before {content: \"\";position: absolute;border-left: 1px solid gray;box-sizing: border-box;top: 0;bottom: 0;left: 50%;z-index: 0;}#sk-container-id-8 div.sk-serial {display: flex;flex-direction: column;align-items: center;background-color: white;padding-right: 0.2em;padding-left: 0.2em;position: relative;}#sk-container-id-8 div.sk-item {position: relative;z-index: 1;}#sk-container-id-8 div.sk-parallel {display: flex;align-items: stretch;justify-content: center;background-color: white;position: relative;}#sk-container-id-8 div.sk-item::before, #sk-container-id-8 div.sk-parallel-item::before {content: \"\";position: absolute;border-left: 1px solid gray;box-sizing: border-box;top: 0;bottom: 0;left: 50%;z-index: -1;}#sk-container-id-8 div.sk-parallel-item {display: flex;flex-direction: column;z-index: 1;position: relative;background-color: white;}#sk-container-id-8 div.sk-parallel-item:first-child::after {align-self: flex-end;width: 50%;}#sk-container-id-8 div.sk-parallel-item:last-child::after {align-self: flex-start;width: 50%;}#sk-container-id-8 div.sk-parallel-item:only-child::after {width: 0;}#sk-container-id-8 div.sk-dashed-wrapped {border: 1px dashed gray;margin: 0 0.4em 0.5em 0.4em;box-sizing: border-box;padding-bottom: 0.4em;background-color: white;}#sk-container-id-8 div.sk-label label {font-family: monospace;font-weight: bold;display: inline-block;line-height: 1.2em;}#sk-container-id-8 div.sk-label-container {text-align: center;}#sk-container-id-8 div.sk-container {/* jupyter's `normalize.less` sets `[hidden] { display: none; }` but bootstrap.min.css set `[hidden] { display: none !important; }` so we also need the `!important` here to be able to override the default hidden behavior on the sphinx rendered scikit-learn.org. See: https://github.com/scikit-learn/scikit-learn/issues/21755 */display: inline-block !important;position: relative;}#sk-container-id-8 div.sk-text-repr-fallback {display: none;}</style><div id=\"sk-container-id-8\" class=\"sk-top-container\"><div class=\"sk-text-repr-fallback\"><pre>Pipeline(steps=[(&#x27;std_scaler&#x27;, StandardScaler()),\n",
       "                (&#x27;NN&#x27;,\n",
       "                 FunctionTransformer(func=&lt;bound method KNeighborsMixin.kneighbors of NearestNeighbors(algorithm=&#x27;brute&#x27;, metric=&#x27;cosine&#x27;)&gt;,\n",
       "                                     kw_args={&#x27;n_neighbors&#x27;: 3,\n",
       "                                              &#x27;return_distance&#x27;: False}))])</pre><b>In a Jupyter environment, please rerun this cell to show the HTML representation or trust the notebook. <br />On GitHub, the HTML representation is unable to render, please try loading this page with nbviewer.org.</b></div><div class=\"sk-container\" hidden><div class=\"sk-item sk-dashed-wrapped\"><div class=\"sk-label-container\"><div class=\"sk-label sk-toggleable\"><input class=\"sk-toggleable__control sk-hidden--visually\" id=\"sk-estimator-id-14\" type=\"checkbox\" ><label for=\"sk-estimator-id-14\" class=\"sk-toggleable__label sk-toggleable__label-arrow\">Pipeline</label><div class=\"sk-toggleable__content\"><pre>Pipeline(steps=[(&#x27;std_scaler&#x27;, StandardScaler()),\n",
       "                (&#x27;NN&#x27;,\n",
       "                 FunctionTransformer(func=&lt;bound method KNeighborsMixin.kneighbors of NearestNeighbors(algorithm=&#x27;brute&#x27;, metric=&#x27;cosine&#x27;)&gt;,\n",
       "                                     kw_args={&#x27;n_neighbors&#x27;: 3,\n",
       "                                              &#x27;return_distance&#x27;: False}))])</pre></div></div></div><div class=\"sk-serial\"><div class=\"sk-item\"><div class=\"sk-estimator sk-toggleable\"><input class=\"sk-toggleable__control sk-hidden--visually\" id=\"sk-estimator-id-15\" type=\"checkbox\" ><label for=\"sk-estimator-id-15\" class=\"sk-toggleable__label sk-toggleable__label-arrow\">StandardScaler</label><div class=\"sk-toggleable__content\"><pre>StandardScaler()</pre></div></div></div><div class=\"sk-item\"><div class=\"sk-estimator sk-toggleable\"><input class=\"sk-toggleable__control sk-hidden--visually\" id=\"sk-estimator-id-16\" type=\"checkbox\" ><label for=\"sk-estimator-id-16\" class=\"sk-toggleable__label sk-toggleable__label-arrow\">FunctionTransformer</label><div class=\"sk-toggleable__content\"><pre>FunctionTransformer(func=&lt;bound method KNeighborsMixin.kneighbors of NearestNeighbors(algorithm=&#x27;brute&#x27;, metric=&#x27;cosine&#x27;)&gt;,\n",
       "                    kw_args={&#x27;n_neighbors&#x27;: 3, &#x27;return_distance&#x27;: False})</pre></div></div></div></div></div></div></div>"
      ],
      "text/plain": [
       "Pipeline(steps=[('std_scaler', StandardScaler()),\n",
       "                ('NN',\n",
       "                 FunctionTransformer(func=<bound method KNeighborsMixin.kneighbors of NearestNeighbors(algorithm='brute', metric='cosine')>,\n",
       "                                     kw_args={'n_neighbors': 3,\n",
       "                                              'return_distance': False}))])"
      ]
     },
     "execution_count": 178,
     "metadata": {},
     "output_type": "execute_result"
    }
   ],
   "source": [
    "transformer = FunctionTransformer(neigh.kneighbors, kw_args={'return_distance':False})\n",
    "pipeline = Pipeline([('std_scaler', scaler),('NN', transformer)])\n",
    "params = {'n_neighbors':3, 'return_distance':False}\n",
    "pipeline.get_params()\n",
    "pipeline.set_params(NN__kw_args=params)"
   ]
  },
  {
   "cell_type": "code",
   "execution_count": 179,
   "metadata": {},
   "outputs": [
    {
     "data": {
      "text/plain": [
       "array([0, 1, 7], dtype=int64)"
      ]
     },
     "execution_count": 179,
     "metadata": {},
     "output_type": "execute_result"
    }
   ],
   "source": [
    "pipeline.transform(final_meal.iloc[0:1, 1:7].to_numpy())[0]\n"
   ]
  },
  {
   "cell_type": "code",
   "execution_count": 180,
   "metadata": {},
   "outputs": [
    {
     "data": {
      "text/html": [
       "<div>\n",
       "<style scoped>\n",
       "    .dataframe tbody tr th:only-of-type {\n",
       "        vertical-align: middle;\n",
       "    }\n",
       "\n",
       "    .dataframe tbody tr th {\n",
       "        vertical-align: top;\n",
       "    }\n",
       "\n",
       "    .dataframe thead th {\n",
       "        text-align: right;\n",
       "    }\n",
       "</style>\n",
       "<table border=\"1\" class=\"dataframe\">\n",
       "  <thead>\n",
       "    <tr style=\"text-align: right;\">\n",
       "      <th></th>\n",
       "      <th>RecipeID</th>\n",
       "      <th>calories</th>\n",
       "      <th>carbohydrate</th>\n",
       "      <th>protein</th>\n",
       "      <th>fat</th>\n",
       "      <th>sugar</th>\n",
       "      <th>sodium</th>\n",
       "    </tr>\n",
       "  </thead>\n",
       "  <tbody>\n",
       "    <tr>\n",
       "      <th>0</th>\n",
       "      <td>[177, 138, 45, 23, 129]</td>\n",
       "      <td>1000.50</td>\n",
       "      <td>128.27</td>\n",
       "      <td>50.72</td>\n",
       "      <td>31.61</td>\n",
       "      <td>18.88</td>\n",
       "      <td>2123.23</td>\n",
       "    </tr>\n",
       "    <tr>\n",
       "      <th>1</th>\n",
       "      <td>[123, 105, 24, 19, 77]</td>\n",
       "      <td>767.39</td>\n",
       "      <td>102.18</td>\n",
       "      <td>43.59</td>\n",
       "      <td>20.48</td>\n",
       "      <td>10.88</td>\n",
       "      <td>1738.43</td>\n",
       "    </tr>\n",
       "    <tr>\n",
       "      <th>7</th>\n",
       "      <td>[80, 84, 46, 18, 140]</td>\n",
       "      <td>556.69</td>\n",
       "      <td>103.56</td>\n",
       "      <td>15.92</td>\n",
       "      <td>8.85</td>\n",
       "      <td>12.34</td>\n",
       "      <td>2392.70</td>\n",
       "    </tr>\n",
       "  </tbody>\n",
       "</table>\n",
       "</div>"
      ],
      "text/plain": [
       "                  RecipeID  calories  carbohydrate  protein    fat  sugar  \\\n",
       "0  [177, 138, 45, 23, 129]   1000.50        128.27    50.72  31.61  18.88   \n",
       "1   [123, 105, 24, 19, 77]    767.39        102.18    43.59  20.48  10.88   \n",
       "7    [80, 84, 46, 18, 140]    556.69        103.56    15.92   8.85  12.34   \n",
       "\n",
       "    sodium  \n",
       "0  2123.23  \n",
       "1  1738.43  \n",
       "7  2392.70  "
      ]
     },
     "execution_count": 180,
     "metadata": {},
     "output_type": "execute_result"
    }
   ],
   "source": [
    "final_meal.iloc[pipeline.transform(final_meal.iloc[0:1,1:7].to_numpy())[0]]"
   ]
  },
  {
   "cell_type": "code",
   "execution_count": 181,
   "metadata": {},
   "outputs": [],
   "source": [
    "def scaling(dataframe):\n",
    "    scaler=StandardScaler()\n",
    "    final_data=scaler.fit_transform(dataframe.iloc[:,1:7].to_numpy())\n",
    "    return final_data,scaler"
   ]
  },
  {
   "cell_type": "code",
   "execution_count": 182,
   "metadata": {},
   "outputs": [],
   "source": [
    "def nn_predictor(final_data):\n",
    "    neigh = NearestNeighbors(metric='cosine',algorithm='brute')\n",
    "    neigh.fit(final_data)\n",
    "    return neigh"
   ]
  },
  {
   "cell_type": "code",
   "execution_count": 183,
   "metadata": {},
   "outputs": [],
   "source": [
    "def build_pipeline(neigh,scaler,params):\n",
    "    transformer = FunctionTransformer(neigh.kneighbors,kw_args=params)\n",
    "    pipeline=Pipeline([('std_scaler',scaler),('NN',transformer)])\n",
    "    return pipeline"
   ]
  },
  {
   "cell_type": "code",
   "execution_count": 184,
   "metadata": {},
   "outputs": [],
   "source": [
    "def apply_pipeline(pipeline,_input,final_meal):\n",
    "    return final_meal.iloc[pipeline.transform(_input)[0]]"
   ]
  },
  {
   "cell_type": "code",
   "execution_count": 185,
   "metadata": {},
   "outputs": [],
   "source": [
    "def recommand(dataframe,_input,max_nutritional_values,params={'return_distance':False}):\n",
    "    final_meal=final_meal(dataframe,max_nutritional_values)\n",
    "    final_meal,scaler=scaling()\n",
    "    neigh=nn_predictor(final_data)\n",
    "    pipeline=build_pipeline(neigh,scaler,params)\n",
    "    return apply_pipeline(pipeline,_input,final_meal)\n"
   ]
  },
  {
   "cell_type": "code",
   "execution_count": 186,
   "metadata": {},
   "outputs": [
    {
     "name": "stdout",
     "output_type": "stream",
     "text": [
      "[177, 138, 45, 23, 129]\n"
     ]
    }
   ],
   "source": [
    "print(final_meal.iloc[0, 0])"
   ]
  },
  {
   "cell_type": "code",
   "execution_count": 187,
   "metadata": {},
   "outputs": [
    {
     "name": "stdout",
     "output_type": "stream",
     "text": [
      "[[119, 10, 16, 17, 187], [177, 138, 45, 23, 129], [5, 55, 18, 7, 48], [114, 110, 4, 12, 1], [129, 148, 52, 16, 167], [170, 146, 49, 7, 42], [198, 35, 46, 2, 3], [67, 83, 34, 14, 9], [92, 16, 18, 16, 8], [140, 108, 48, 19, 148], [58, 26, 53, 10, 84], [136, 96, 42, 26, 46], [91, 30, 4, 11, 83], [179, 15, 23, 22, 149], [39, 52, 4, 14, 133], [8, 151, 35, 23, 100], [52, 110, 47, 4, 168], [186, 97, 39, 25, 122], [123, 105, 24, 19, 77], [69, 53, 50, 20, 123], [175, 12, 49, 12, 70], [132, 140, 31, 12, 91], [1, 30, 7, 11, 93], [100, 21, 14, 26, 142], [89, 128, 15, 13, 115], [128, 92, 5, 3, 174], [161, 102, 53, 18, 116], [59, 52, 55, 18, 96], [149, 124, 35, 14, 81], [102, 151, 9, 3, 134], [128, 100, 22, 22, 139], [172, 150, 51, 8, 180], [152, 86, 19, 25, 156], [16, 33, 38, 13, 17], [118, 14, 51, 17, 47], [35, 70, 13, 14, 153], [136, 136, 12, 12, 19], [96, 1, 23, 5, 43], [16, 84, 33, 10, 2], [42, 4, 3, 13, 1], [20, 40, 52, 22, 26], [111, 36, 33, 15, 6], [110, 109, 46, 16, 173], [198, 142, 49, 23, 109], [133, 19, 22, 24, 75], [112, 50, 2, 23, 100], [201, 35, 5, 14, 28], [65, 27, 43, 25, 1], [112, 142, 53, 18, 89], [45, 17, 24, 21, 115], [87, 87, 35, 15, 26], [146, 115, 23, 17, 95], [167, 42, 18, 1, 47], [3, 134, 49, 16, 173], [62, 105, 7, 12, 185], [61, 26, 4, 23, 160], [16, 76, 38, 1, 140], [116, 42, 42, 9, 95], [148, 133, 48, 15, 32], [80, 84, 46, 18, 140], [155, 73, 12, 3, 137], [104, 124, 26, 2, 169], [148, 40, 26, 24, 166], [160, 16, 10, 14, 148], [23, 104, 17, 13, 85], [41, 9, 46, 21, 89], [137, 51, 55, 19, 79], [128, 1, 18, 2, 113], [95, 63, 43, 8, 182], [116, 96, 41, 21, 45], [178, 77, 52, 8, 32], [168, 22, 12, 25, 87], [7, 85, 47, 24, 139], [200, 6, 50, 9, 183], [76, 46, 15, 24, 102], [51, 131, 12, 12, 146], [126, 1, 34, 18, 24], [87, 114, 2, 20, 161], [185, 116, 45, 21, 57], [177, 134, 21, 23, 101], [70, 90, 24, 20, 172], [134, 26, 24, 23, 103], [21, 60, 18, 1, 128], [10, 62, 24, 1, 73], [160, 126, 1, 19, 22], [127, 31, 38, 11, 113], [3, 118, 3, 12, 101], [19, 7, 32, 21, 181], [20, 142, 22, 4, 113], [14, 27, 29, 17, 17], [4, 102, 43, 4, 110], [138, 96, 17, 25, 97], [69, 95, 39, 10, 1], [93, 79, 3, 25, 171], [168, 149, 17, 9, 184], [130, 151, 19, 20, 133], [47, 114, 49, 12, 186], [18, 12, 40, 8, 136], [60, 11, 36, 2, 93], [177, 18, 17, 10, 64]]\n"
     ]
    }
   ],
   "source": [
    "print(random_meal)"
   ]
  },
  {
   "cell_type": "code",
   "execution_count": 188,
   "metadata": {},
   "outputs": [
    {
     "name": "stdout",
     "output_type": "stream",
     "text": [
      "[[1000.5   128.27   50.72   31.61   18.88 2123.23]]\n"
     ]
    }
   ],
   "source": [
    "print(final_meal.iloc[0:1, 1:7].to_numpy())"
   ]
  },
  {
   "cell_type": "code",
   "execution_count": 189,
   "metadata": {},
   "outputs": [
    {
     "ename": "UnboundLocalError",
     "evalue": "cannot access local variable 'final_meal' where it is not associated with a value",
     "output_type": "error",
     "traceback": [
      "\u001b[1;31m---------------------------------------------------------------------------\u001b[0m",
      "\u001b[1;31mUnboundLocalError\u001b[0m                         Traceback (most recent call last)",
      "\u001b[1;32mc:\\git_files\\moumukji\\moumukji.ipynb Cell 28\u001b[0m line \u001b[0;36m3\n\u001b[0;32m      <a href='vscode-notebook-cell:/c%3A/git_files/moumukji/moumukji.ipynb#X50sZmlsZQ%3D%3D?line=0'>1</a>\u001b[0m test \u001b[39m=\u001b[39m [\u001b[39m\"\u001b[39m\u001b[39mRecipeID\u001b[39m\u001b[39m\"\u001b[39m,\u001b[39m\"\u001b[39m\u001b[39mcalories\u001b[39m\u001b[39m\"\u001b[39m,\u001b[39m\"\u001b[39m\u001b[39mcarbohydrate\u001b[39m\u001b[39m\"\u001b[39m,\u001b[39m\"\u001b[39m\u001b[39mprotein\u001b[39m\u001b[39m\"\u001b[39m,\u001b[39m\"\u001b[39m\u001b[39mfat\u001b[39m\u001b[39m\"\u001b[39m,\u001b[39m\"\u001b[39m\u001b[39msugar\u001b[39m\u001b[39m\"\u001b[39m,\u001b[39m\"\u001b[39m\u001b[39msod\u001b[39m\u001b[39m\"\u001b[39m]\n\u001b[0;32m      <a href='vscode-notebook-cell:/c%3A/git_files/moumukji/moumukji.ipynb#X50sZmlsZQ%3D%3D?line=1'>2</a>\u001b[0m test_input \u001b[39m=\u001b[39m np\u001b[39m.\u001b[39marray(test)\n\u001b[1;32m----> <a href='vscode-notebook-cell:/c%3A/git_files/moumukji/moumukji.ipynb#X50sZmlsZQ%3D%3D?line=2'>3</a>\u001b[0m recommand(random_meal,test_input,max_list)\n",
      "\u001b[1;32mc:\\git_files\\moumukji\\moumukji.ipynb Cell 28\u001b[0m line \u001b[0;36m2\n\u001b[0;32m      <a href='vscode-notebook-cell:/c%3A/git_files/moumukji/moumukji.ipynb#X50sZmlsZQ%3D%3D?line=0'>1</a>\u001b[0m \u001b[39mdef\u001b[39;00m \u001b[39mrecommand\u001b[39m(dataframe,_input,max_nutritional_values,params\u001b[39m=\u001b[39m{\u001b[39m'\u001b[39m\u001b[39mreturn_distance\u001b[39m\u001b[39m'\u001b[39m:\u001b[39mFalse\u001b[39;00m}):\n\u001b[1;32m----> <a href='vscode-notebook-cell:/c%3A/git_files/moumukji/moumukji.ipynb#X50sZmlsZQ%3D%3D?line=1'>2</a>\u001b[0m     final_meal\u001b[39m=\u001b[39mfinal_meal(dataframe,max_nutritional_values)\n\u001b[0;32m      <a href='vscode-notebook-cell:/c%3A/git_files/moumukji/moumukji.ipynb#X50sZmlsZQ%3D%3D?line=2'>3</a>\u001b[0m     final_meal,scaler\u001b[39m=\u001b[39mscaling()\n\u001b[0;32m      <a href='vscode-notebook-cell:/c%3A/git_files/moumukji/moumukji.ipynb#X50sZmlsZQ%3D%3D?line=3'>4</a>\u001b[0m     neigh\u001b[39m=\u001b[39mnn_predictor(final_data)\n",
      "\u001b[1;31mUnboundLocalError\u001b[0m: cannot access local variable 'final_meal' where it is not associated with a value"
     ]
    }
   ],
   "source": [
    "test = [\"RecipeID\",\"calories\",\"carbohydrate\",\"protein\",\"fat\",\"sugar\",\"sod\"]\n",
    "test_input = np.array(test)\n",
    "recommand(random_meal,test_input,max_list)"
   ]
  },
  {
   "cell_type": "code",
   "execution_count": null,
   "metadata": {},
   "outputs": [],
   "source": []
  },
  {
   "cell_type": "code",
   "execution_count": null,
   "metadata": {},
   "outputs": [],
   "source": []
  }
 ],
 "metadata": {
  "kernelspec": {
   "display_name": "Python 3",
   "language": "python",
   "name": "python3"
  },
  "language_info": {
   "codemirror_mode": {
    "name": "ipython",
    "version": 3
   },
   "file_extension": ".py",
   "mimetype": "text/x-python",
   "name": "python",
   "nbconvert_exporter": "python",
   "pygments_lexer": "ipython3",
   "version": "3.11.6"
  }
 },
 "nbformat": 4,
 "nbformat_minor": 2
}
